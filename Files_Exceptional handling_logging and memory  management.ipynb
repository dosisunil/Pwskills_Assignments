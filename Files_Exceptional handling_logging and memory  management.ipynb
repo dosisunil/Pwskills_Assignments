{
 "cells": [
  {
   "cell_type": "markdown",
   "id": "d2c0a832",
   "metadata": {},
   "source": [
    "#### 1.What is the difference between interpreted and compiled languages.?"
   ]
  },
  {
   "cell_type": "markdown",
   "id": "04c6489d",
   "metadata": {},
   "source": [
    "1.Translation Method:    \n",
    "Compiled Languages: Code is translated into machine code before execution.\n",
    "Interpreted Languages:Code is translated and executed line-by-line.\n",
    "\n",
    "2.Execution Speed:\n",
    "Compiled Languages:Faster, as the code is already compiled to machine code.\n",
    "Interpreted Languages:Slower, as it requires real-time translation. \n",
    "    \n",
    "3.Output:\n",
    "Compiled Languages: Produces an executable file.\n",
    "Interpreted Languages:No separate executable file; depends on the interpreter.\n",
    "    \n",
    "4.Platform Dependency\n",
    "Compiled Languages:Platform-specific executables.\n",
    "Interpreted Languages:Platform-independent, as long as the interpreter is available.\n",
    "    \n",
    "5.Examples\n",
    "Compiled Languages:\tC, C++, Go, Rust\n",
    "Interpreted Languages:Python, Ruby, JavaScript, PHP\n",
    "\n",
    "\n",
    "    \n"
   ]
  },
  {
   "cell_type": "markdown",
   "id": "500fe6df",
   "metadata": {},
   "source": [
    "#### 2.What is exception handling in Python..?"
   ]
  },
  {
   "cell_type": "markdown",
   "id": "2de5563a",
   "metadata": {},
   "source": [
    "in Python, exception handling is done using the try, except, else, and finally blocks."
   ]
  },
  {
   "cell_type": "markdown",
   "id": "bdaa904e",
   "metadata": {},
   "source": [
    "#### 3.What is the purpose of the finally block in exception handling..?"
   ]
  },
  {
   "cell_type": "markdown",
   "id": "1b2817b4",
   "metadata": {},
   "source": [
    "The finally block is essential for performing cleanup tasks and ensuring that critical code runs, \n",
    "no matter what happens in the try or except blocks. It makes programs more robust by preventing resource leaks or leaving processes in an inconsistent state."
   ]
  },
  {
   "cell_type": "markdown",
   "id": "28214719",
   "metadata": {},
   "source": [
    "#### 4.What is logging in Python..?"
   ]
  },
  {
   "cell_type": "markdown",
   "id": "54efe078",
   "metadata": {},
   "source": [
    "The logging module is a powerful tool for tracking and debugging your Python applications.\n",
    "By using logging, you can get detailed, configurable output about your program’s behavior,\n",
    "improve error detection, and ensure your application is maintainable and well-monitored."
   ]
  },
  {
   "cell_type": "markdown",
   "id": "f84b55f3",
   "metadata": {},
   "source": [
    "#### 5.What is the significance of the __del__ method in Python..?"
   ]
  },
  {
   "cell_type": "markdown",
   "id": "237beffe",
   "metadata": {},
   "source": [
    "The __del__ method is used in Python to define custom cleanup behavior when an object is about to be destroyed."
   ]
  },
  {
   "cell_type": "markdown",
   "id": "7573d1ad",
   "metadata": {},
   "source": [
    "#### 6. What is the difference between import and from ... import in Python.?"
   ]
  },
  {
   "cell_type": "markdown",
   "id": "faedddff",
   "metadata": {},
   "source": [
    "import module_name is used when you need to access many parts of a module, \n",
    "and prefer to use the module's namespace to avoid naming conflicts.\n",
    "\n",
    "from module_name import item1, item2, ... is \n",
    "used when you want to directly import specific functions or classes from a module for easier access without the module name prefix."
   ]
  },
  {
   "cell_type": "markdown",
   "id": "77455799",
   "metadata": {},
   "source": [
    "#### 7.How can you handle multiple exceptions in Python.?"
   ]
  },
  {
   "cell_type": "markdown",
   "id": "1549837c",
   "metadata": {},
   "source": [
    "You can handle multiple exceptions in Python using several techniques:\n",
    "Multiple except blocks: Handle different exceptions separately.\n",
    "Single except block with a tuple: Handle multiple exceptions in the same way.\n",
    "Using as: Capture the exception object for further analysis or logging.\n",
    "Catch all exceptions (use cautiously): Handle any exception generically.\n",
    "Combine else and finally: For additional control over code execution after handling exceptions."
   ]
  },
  {
   "cell_type": "code",
   "execution_count": null,
   "id": "71e1ea2d",
   "metadata": {},
   "outputs": [],
   "source": [
    "8. What is the purpose of the with statement when handling files in Python..?"
   ]
  },
  {
   "cell_type": "markdown",
   "id": "569a4796",
   "metadata": {},
   "source": [
    "The with statement in Python is used to manage resources,\n",
    "such as file handling, in a more efficient and clean way. When dealing with files\n",
    "the with statement ensures that the file is properly opened and closed,\n",
    "even if an exception occurs during the file operations."
   ]
  },
  {
   "cell_type": "markdown",
   "id": "f72e0409",
   "metadata": {},
   "source": [
    "#### 9. What is the difference between multithreading and multiprocessing"
   ]
  },
  {
   "cell_type": "markdown",
   "id": "8da56793",
   "metadata": {},
   "source": [
    "Multithreading is more suitable for I/O-bound tasks and tasks that don’t require full CPU utilization.\n",
    "It provides an easy way to manage concurrency within a single process\n",
    "but is limited by the Global Interpreter Lock (GIL) in Python.\n",
    "\n",
    "Multiprocessing is better suited for CPU-bound tasks where true parallelism is needed, \n",
    "as it runs separate processes that can utilize multiple CPU cores independently of the GIL, \n",
    "but at the cost of higher overhead and more complex inter-process communication."
   ]
  },
  {
   "cell_type": "markdown",
   "id": "9d92a8b9",
   "metadata": {},
   "source": [
    "#### 10. What are the advantages of using logging in a program.?\n"
   ]
  },
  {
   "cell_type": "markdown",
   "id": "18d5e06d",
   "metadata": {},
   "source": [
    "Using logging in a program offers several important advantages:\n",
    "\n",
    "It enhances debugging and troubleshooting by providing detailed logs.\n",
    "It enables traceability of the program’s actions.\n",
    "It supports error handling and performance monitoring.\n",
    "It is flexible, allowing logs to be customized and directed to different outputs.\n",
    "It improves production monitoring by allowing ongoing insights into system behavior.\n",
    "Logging is a powerful tool that makes your code more maintainable and\n",
    "production-ready by providing valuable insights into how your application behaves."
   ]
  },
  {
   "cell_type": "markdown",
   "id": "c24bbb1b",
   "metadata": {},
   "source": [
    "#### 11.What is memory management in Python"
   ]
  },
  {
   "cell_type": "markdown",
   "id": "b8c0113e",
   "metadata": {},
   "source": [
    "1.Python’s memory management is mostly automatic, but understanding \n",
    "how it works can help write more efficient programs.\n",
    "\n",
    "2.The garbage collector, reference counting, and cyclic garbage collection help ensure that \n",
    "unused objects are properly cleaned up.\n",
    "\n",
    "3.Memory management strategies like memory pools and arenas improve the efficiency of memory allocation."
   ]
  },
  {
   "cell_type": "markdown",
   "id": "6a51dcad",
   "metadata": {},
   "source": [
    "#### 12.What are the basic steps involved in exception handling in Python"
   ]
  },
  {
   "cell_type": "markdown",
   "id": "7eca5213",
   "metadata": {},
   "source": [
    "The basic steps involved in exception handling are as follows:\n",
    "1.Try block\n",
    "2.Excpet block\n",
    "3.Finally block"
   ]
  },
  {
   "cell_type": "code",
   "execution_count": null,
   "id": "234728d2",
   "metadata": {},
   "outputs": [],
   "source": [
    "#example \n",
    "try:\n",
    "    file = open('Sample_data.txt', 'r')  # Attempt to open a file\n",
    "    # Some operations with the file\n",
    "except FileNotFoundError:\n",
    "    print(\"File not found!\")\n",
    "finally:\n",
    "    print(\"Closing file.\")\n",
    "    file.close()  # Make sure to close the file regardless of any exception\n"
   ]
  },
  {
   "cell_type": "markdown",
   "id": "02fead3c",
   "metadata": {},
   "source": [
    "#### 13.Why is memory management important in Python"
   ]
  },
  {
   "cell_type": "markdown",
   "id": "31f0a223",
   "metadata": {},
   "source": [
    "Memory management is fundamental in Python for ensuring that resources are used efficiently, \n",
    "preventing memory leaks, improving performance, handling large data, and supporting scalability.\n",
    "\n",
    "Python’s built-in garbage collection system provides automatic memory cleanup, freeing developers\n",
    "from managing memory manually and allowing them to focus on developing high-quality applications. \n",
    "However, understanding Python’s memory management can still help optimize code, \n",
    "especially in memory-intensive programs."
   ]
  },
  {
   "cell_type": "markdown",
   "id": "0d85d15a",
   "metadata": {},
   "source": [
    "#### 14.What is the role of try and except in exception handling"
   ]
  },
  {
   "cell_type": "markdown",
   "id": "5c702b6c",
   "metadata": {},
   "source": [
    "The try block is used to wrap code that might raise an exception. Essentially, you place any code that could potentially cause an error inside the try block.\n",
    "The goal of the try block is to attempt to execute the code, and if an exception occurs, the program will stop executing the rest of the code inside the try block \n",
    "and jump to the corresponding except block."
   ]
  },
  {
   "cell_type": "markdown",
   "id": "150e688a",
   "metadata": {},
   "source": [
    "#### 15.How does Python's garbage collection system work"
   ]
  },
  {
   "cell_type": "markdown",
   "id": "d71d04cc",
   "metadata": {},
   "source": [
    "Overall, Python’s garbage collection system helps developers by automatically managing memory, \n",
    "ensuring efficient resource usage, and preventing memory leaks while allowing some control \n",
    "and customization if necessary."
   ]
  },
  {
   "cell_type": "markdown",
   "id": "5a85e4c9",
   "metadata": {},
   "source": [
    "#### 16.What is the purpose of the else block in exception handling"
   ]
  },
  {
   "cell_type": "markdown",
   "id": "f3a16db8",
   "metadata": {},
   "source": [
    "Clarity: It clearly separates the normal execution flow (when no exceptions occur) \n",
    "from the error-handling flow.\n",
    "Efficiency: The else block only runs when the try block succeeds \n",
    "ensuring that it doesn't need to be run if an exception occurs.\n",
    "Prevents redundant code: It avoids putting code for normal execution inside the except block\n",
    "keeping error handling focused only on the exceptions."
   ]
  },
  {
   "cell_type": "markdown",
   "id": "8995d9bc",
   "metadata": {},
   "source": [
    "#### 17.What are the common logging levels in Python.?"
   ]
  },
  {
   "cell_type": "markdown",
   "id": "b8f88ae3",
   "metadata": {},
   "source": [
    "1.Debug-> level 10\n",
    "2.info->level 20\n",
    "3.warning--> level 30\n",
    "4.Error-> level 40\n",
    "5.critical--> level 50"
   ]
  },
  {
   "cell_type": "markdown",
   "id": "b874b5ff",
   "metadata": {},
   "source": [
    "#notations\n",
    "logging.debug(\"This is a debug message\")\n",
    "logging.info(\"The process has started successfully.\")\n",
    "logging.warning(\"Disk space is running low.\")\n",
    "logging.error(\"An error occurred while saving the file.\")\n",
    "logging.critical(\"The system has run out of memory!\")\n"
   ]
  },
  {
   "cell_type": "markdown",
   "id": "bdb26b9a",
   "metadata": {},
   "source": [
    "#### 18.What is the difference between os.fork() and multiprocessing in Python"
   ]
  },
  {
   "cell_type": "markdown",
   "id": "89e73691",
   "metadata": {},
   "source": [
    "1.os.fork() is a low-level system call available on Unix-like systems that\n",
    "duplicates the current process. It gives you full control but requires manual handling of shared resources \n",
    "and inter-process communication.\n",
    "\n",
    "2.multiprocessing is a higher-level, cross-platform library that abstracts away the complexity of process creation \n",
    "synchronization, and communication. It is easier to use and provides built-in features for inter-process communication\n",
    "making it more suitable for parallel processing and concurrent tasks."
   ]
  },
  {
   "cell_type": "markdown",
   "id": "250da0e1",
   "metadata": {},
   "source": [
    "#### 19.What is the importance of closing a file in Python"
   ]
  },
  {
   "cell_type": "markdown",
   "id": "f46c7547",
   "metadata": {},
   "source": [
    "1.Closing a file in Python is essential for releasing system resources, ensuring that data is written properly, \n",
    "preventing file corruption, and maintaining good memory management\n",
    "\n",
    "2.using the with statement is generally recommended as it automatically handles file closing in a clean and safe way."
   ]
  },
  {
   "cell_type": "markdown",
   "id": "b8359de1",
   "metadata": {},
   "source": [
    "#### 20. What is the difference between file.read() and file.readline() in Python"
   ]
  },
  {
   "cell_type": "markdown",
   "id": "7b484518",
   "metadata": {},
   "source": [
    "1.file.read() will return the entire content of the file as a single string.\n",
    "\n",
    "2.file.readline() will return one line at a time. The first call reads the first line,\n",
    "and the second call reads the second line."
   ]
  },
  {
   "cell_type": "code",
   "execution_count": null,
   "id": "599ef583",
   "metadata": {},
   "outputs": [],
   "source": [
    "#example\n",
    "with open('Sample_data.txt', 'r') as file:\n",
    "    content = file.read()\n",
    "    print(content)"
   ]
  },
  {
   "cell_type": "code",
   "execution_count": null,
   "id": "0c4cb34a",
   "metadata": {},
   "outputs": [],
   "source": [
    "#example \n",
    "with open('Sample_data.txt', 'r') as file:\n",
    "    line1 = file.readline()\n",
    "    print(line1)\n",
    "    line2 = file.readline()\n",
    "    print(line2)"
   ]
  },
  {
   "cell_type": "markdown",
   "id": "f1fa178e",
   "metadata": {},
   "source": [
    "#### 21. What is the logging module in Python used for"
   ]
  },
  {
   "cell_type": "markdown",
   "id": "036b0990",
   "metadata": {},
   "source": [
    "The logging module is essential for creating maintainable, efficient, and user-friendly Python programs. "
   ]
  },
  {
   "cell_type": "markdown",
   "id": "4feda5a8",
   "metadata": {},
   "source": [
    "#### 22.What is the os module in Python used for in file handling"
   ]
  },
  {
   "cell_type": "code",
   "execution_count": null,
   "id": "aadbd5c2",
   "metadata": {},
   "outputs": [],
   "source": [
    "\"\"\" \n",
    "1.Working with File and Directory Path\n",
    "import os    \n",
    "file_path = \"Sample_data.txt\"\n",
    "print(os.path.exists(file_path))  # Checks if the file exists\n",
    "print(os.path.isdir(file_path))  # Checks if it's a directory\n",
    "print(os.path.abspath(file_path))  # Returns the absolute path\"\"\""
   ]
  },
  {
   "cell_type": "code",
   "execution_count": 4,
   "id": "42c88430",
   "metadata": {
    "collapsed": true
   },
   "outputs": [
    {
     "data": {
      "text/plain": [
       "'\\n2.Creating and Removing Directories:\\n    import os\\n\\n# Create a directory\\nos.mkdir(\"new_directory\")\\n\\n# Create intermediate directories\\nos.makedirs(\"new_directory/sub_directory\")\\n\\n# Remove an empty directory\\nos.rmdir(\"new_directory\")'"
      ]
     },
     "execution_count": 4,
     "metadata": {},
     "output_type": "execute_result"
    }
   ],
   "source": [
    "\n",
    "\"\"\"\n",
    "2.Creating and Removing Directories:\n",
    "    import os\n",
    "\n",
    "# Create a directory\n",
    "os.mkdir(\"new_directory\")\n",
    "\n",
    "# Create intermediate directories\n",
    "os.makedirs(\"new_directory/sub_directory\")\n",
    "\n",
    "# Remove an empty directory\n",
    "os.rmdir(\"new_directory\")\"\"\"\n"
   ]
  },
  {
   "cell_type": "markdown",
   "id": "20d62b1c",
   "metadata": {},
   "source": [
    "#### 23.What are the challenges associated with memory management in Python"
   ]
  },
  {
   "cell_type": "markdown",
   "id": "18f477f4",
   "metadata": {},
   "source": [
    "Memory management in Python, though mostly automatic, has\n",
    "challenges that can affect performance and efficiency, especially in large applications \n",
    "or when dealing with large datasets. The key challenges include memory leaks, inefficient memory usage\n",
    "in data structures, garbage collection delays, fragmentation, and limitations of the GIL in multi-threaded programs. \n",
    "To address these challenges, developers can use profiling tools, optimize data structures, \n",
    "manage references carefully, and leverage memory-efficient libraries or techniques for specific use cases.\n",
    "By understanding these challenges, developers can write more efficient Python programs that use memory effectively \n",
    "and avoid common pitfalls."
   ]
  },
  {
   "cell_type": "markdown",
   "id": "b8bbc7dd",
   "metadata": {},
   "source": [
    "#### 24. How do you raise an exception manually in Python"
   ]
  },
  {
   "cell_type": "markdown",
   "id": "08400a43",
   "metadata": {},
   "source": [
    "In Python, you can raise an exception manually using the raise statement."
   ]
  },
  {
   "cell_type": "code",
   "execution_count": 5,
   "id": "0ee38e1f",
   "metadata": {},
   "outputs": [],
   "source": [
    "def check_positive_number(number):\n",
    "    if number <= 0:\n",
    "        raise ValueError(\"The number must be positive\")\n",
    "    return number\n",
    "\n"
   ]
  },
  {
   "cell_type": "code",
   "execution_count": 6,
   "id": "4903ccd5",
   "metadata": {},
   "outputs": [
    {
     "name": "stdout",
     "output_type": "stream",
     "text": [
      "Error: The number must be positive\n"
     ]
    }
   ],
   "source": [
    "try:\n",
    "    check_positive_number(-5)\n",
    "except ValueError as e:\n",
    "    print(f\"Error: {e}\")"
   ]
  },
  {
   "cell_type": "markdown",
   "id": "c70a27dc",
   "metadata": {},
   "source": [
    "#### 25.Why is it important to use multithreading in certain applications.?"
   ]
  },
  {
   "cell_type": "markdown",
   "id": "348201e9",
   "metadata": {},
   "source": [
    "1.Multithreading is important in certain applications because it allows a program to perform multiple tasks concurrently,\n",
    "improving efficiency and responsiveness\n",
    "\n",
    "2.multithreading helps applications achieve higher performance, better responsiveness, and scalability by enabling concurrent execution of tasks, making it an essential technique in systems where efficiency and real-time processing are critical."
   ]
  },
  {
   "cell_type": "markdown",
   "id": "4797b44b",
   "metadata": {},
   "source": [
    "#### Paractical Questions"
   ]
  },
  {
   "cell_type": "markdown",
   "id": "bd497f3e",
   "metadata": {},
   "source": [
    "#### 1.How can you open a file for writing in Python and write a string to it"
   ]
  },
  {
   "cell_type": "code",
   "execution_count": 8,
   "id": "efe38e79",
   "metadata": {},
   "outputs": [],
   "source": [
    "# Open the file in write mode ('w')\n",
    "with open(\"Sample_data.txt\", \"w\") as file:\n",
    "    # Write the string to the file\n",
    "    file.write(\"Hello Pwskills.\")\n",
    "    file.write( \"Welcome to AIGen Program.\")\n"
   ]
  },
  {
   "cell_type": "markdown",
   "id": "908d1b9b",
   "metadata": {},
   "source": [
    "#### 2.Write a Python program to read the contents of a file and print each line"
   ]
  },
  {
   "cell_type": "code",
   "execution_count": 9,
   "id": "deab7ac4",
   "metadata": {},
   "outputs": [
    {
     "name": "stdout",
     "output_type": "stream",
     "text": [
      "Hello Pwskills.Welcome to AIGen Program."
     ]
    }
   ],
   "source": [
    "\n",
    "with open(\"Sample_data.txt\", \"r\") as file:\n",
    "    # Iterate over each line in the file\n",
    "    for line in file:\n",
    "        # Print each line (the end='\\n' argument removes extra newlines)\n",
    "        print(line, end=\"\")\n"
   ]
  },
  {
   "cell_type": "markdown",
   "id": "a7d5393b",
   "metadata": {},
   "source": [
    "#### 3.How would you handle a case where the file doesn't exist while trying to open it for reading"
   ]
  },
  {
   "cell_type": "code",
   "execution_count": 10,
   "id": "006962ca",
   "metadata": {},
   "outputs": [
    {
     "name": "stdout",
     "output_type": "stream",
     "text": [
      "Error: The file does not exist.\n"
     ]
    }
   ],
   "source": [
    "try:\n",
    "    # Attempt to open the file in read mode ('r') file doesn't exit\n",
    "    with open(\"Sample_data1.txt\", \"r\") as file:\n",
    "        # Read and print each line from the file\n",
    "        for line in file:\n",
    "            print(line, end=\"\")\n",
    "except FileNotFoundError:\n",
    "    # Handle the case where the file does not exist\n",
    "    print(\"Error: The file does not exist.\")\n",
    "except Exception as e:\n",
    "    # Catch any other unforeseen errors\n",
    "    print(f\"An error occurred: {e}\")\n"
   ]
  },
  {
   "cell_type": "markdown",
   "id": "d3ab9f1f",
   "metadata": {},
   "source": [
    "#### 4.Write a Python script that reads from one file and writes its content to another file"
   ]
  },
  {
   "cell_type": "code",
   "execution_count": 11,
   "id": "d6be59af",
   "metadata": {},
   "outputs": [
    {
     "name": "stdout",
     "output_type": "stream",
     "text": [
      "File content copied successfully.\n"
     ]
    }
   ],
   "source": [
    "try:\n",
    "    # Open the source file in read mode ('r')\n",
    "    with open(\"Sample_data.txt\", \"r\") as source_file:\n",
    "        # Open the destination file in write mode ('w')\n",
    "        with open(\"Second_file.txt\", \"w\") as destination_file:\n",
    "            # Read and write each line from the source file to the destination file\n",
    "            for line in source_file:\n",
    "                destination_file.write(line)\n",
    "    print(\"File content copied successfully.\")\n",
    "except FileNotFoundError:\n",
    "    print(\"Error: One of the files does not exist.\")\n",
    "except Exception as e:\n",
    "    print(f\"An error occurred: {e}\")\n"
   ]
  },
  {
   "cell_type": "markdown",
   "id": "6715c021",
   "metadata": {},
   "source": [
    "#### 5.How would you catch and handle division by zero error in Python"
   ]
  },
  {
   "cell_type": "code",
   "execution_count": 12,
   "id": "8bfe535c",
   "metadata": {},
   "outputs": [
    {
     "name": "stdout",
     "output_type": "stream",
     "text": [
      "Error: Cannot divide by zero.\n"
     ]
    }
   ],
   "source": [
    "try:\n",
    "    numerator = 1\n",
    "    denominator = 0\n",
    "    result = numerator / denominator\n",
    "    print(\"Result:\", result)\n",
    "except ZeroDivisionError:\n",
    "    # Handle the division by zero error\n",
    "    print(\"Error: Cannot divide by zero.\")\n"
   ]
  },
  {
   "cell_type": "markdown",
   "id": "d24e7b03",
   "metadata": {},
   "source": [
    "#### 6.Write a Python program that logs an error message to a log file when a division by zero exception occurs"
   ]
  },
  {
   "cell_type": "code",
   "execution_count": 13,
   "id": "5c9f022d",
   "metadata": {},
   "outputs": [
    {
     "name": "stdout",
     "output_type": "stream",
     "text": [
      "Error: Cannot divide by zero. Check the log file for details.\n"
     ]
    }
   ],
   "source": [
    "import logging\n",
    "\n",
    "# Set up logging configuration\n",
    "logging.basicConfig(filename='error_log.txt',  # Log messages will be saved to this file\n",
    "                    level=logging.ERROR,     # Only log messages with level ERROR and above\n",
    "                    format='%(asctime)s - %(levelname)s - %(message)s')\n",
    "\n",
    "try:\n",
    "    # Attempt to divide by zero\n",
    "    numerator = 10\n",
    "    denominator = 0\n",
    "    result = numerator / denominator\n",
    "    print(\"Result:\", result)\n",
    "\n",
    "except ZeroDivisionError as e:\n",
    "    # Log the error message to the file\n",
    "    logging.error(\"Attempted division by zero: %s\", e)\n",
    "    print(\"Error: Cannot divide by zero. Check the log file for details.\")\n"
   ]
  },
  {
   "cell_type": "markdown",
   "id": "54302adb",
   "metadata": {},
   "source": [
    "#### 7.How do you log information at different levels (INFO, ERROR, WARNING) in Python using the logging module"
   ]
  },
  {
   "cell_type": "code",
   "execution_count": 14,
   "id": "8b8bb109",
   "metadata": {},
   "outputs": [],
   "source": [
    "import logging\n",
    "\n",
    "\n",
    "logging.basicConfig(filename='application.log',  # Log messages will be written to this file\n",
    "                    level=logging.DEBUG,        # Log messages from DEBUG level and above\n",
    "                    format='%(asctime)s - %(levelname)s - %(message)s')\n",
    "\n",
    "# Example of logging at different levels\n",
    "\n",
    "# DEBUG: Detailed information for diagnosing problems\n",
    "logging.debug(\"This is a debug message.\")\n",
    "\n",
    "# INFO: General information about the execution\n",
    "logging.info(\"This is an info message.\")\n",
    "\n",
    "# WARNING: Something unexpected occurred, but the program is still running\n",
    "logging.warning(\"This is a warning message.\")\n",
    "\n",
    "# ERROR: An error occurred, but the program can continue\n",
    "logging.error(\"This is an error message.\")\n",
    "\n",
    "# CRITICAL: A serious error occurred, likely preventing the program from continuing\n",
    "logging.critical(\"This is a critical error message.\")\n"
   ]
  },
  {
   "cell_type": "markdown",
   "id": "3cc903d2",
   "metadata": {},
   "source": [
    "#### 8.Write a program to handle a file opening error using exception handling"
   ]
  },
  {
   "cell_type": "code",
   "execution_count": 15,
   "id": "7763b68c",
   "metadata": {},
   "outputs": [
    {
     "name": "stdout",
     "output_type": "stream",
     "text": [
      "Error: The file does not exist.\n"
     ]
    }
   ],
   "source": [
    "try:\n",
    "    # Attempt to open a file for reading\n",
    "    with open(\"non_existent_file.txt\", \"r\") as file:\n",
    "        # Read the content of the file\n",
    "        content = file.read()\n",
    "        print(content)\n",
    "\n",
    "except FileNotFoundError:\n",
    "    # Handle the case when the file does not exist\n",
    "    print(\"Error: The file does not exist.\")\n",
    "\n",
    "except PermissionError:\n",
    "    # Handle the case when there are permission issues\n",
    "    print(\"Error: You do not have permission to open this file.\")\n",
    "\n",
    "except Exception as e:\n",
    "    # Handle any other unforeseen errors\n",
    "    print(f\"An unexpected error occurred: {e}\")\n"
   ]
  },
  {
   "cell_type": "markdown",
   "id": "a92ae245",
   "metadata": {},
   "source": [
    "#### 9.How can you read a file line by line and store its content in a list in Python"
   ]
  },
  {
   "cell_type": "code",
   "execution_count": 16,
   "id": "24432e51",
   "metadata": {},
   "outputs": [
    {
     "name": "stdout",
     "output_type": "stream",
     "text": [
      "['Hello Pwskills.Welcome to AIGen Program.']\n"
     ]
    }
   ],
   "source": [
    "# Open the file in read mode\n",
    "with open(\"Sample_data.txt\", \"r\") as file:\n",
    "    # Read each line from the file and store it in a list\n",
    "    lines = [line.strip() for line in file]\n",
    "\n",
    "# Print the list to check the content\n",
    "print(lines)"
   ]
  },
  {
   "cell_type": "markdown",
   "id": "49109f0b",
   "metadata": {},
   "source": [
    "#### 10. How can you append data to an existing file in Python"
   ]
  },
  {
   "cell_type": "code",
   "execution_count": 17,
   "id": "dc659b0e",
   "metadata": {},
   "outputs": [
    {
     "name": "stdout",
     "output_type": "stream",
     "text": [
      "Data appended successfully.\n"
     ]
    }
   ],
   "source": [
    "# Open the file in append mode ('a')\n",
    "with open(\"Sample_data.txt\", \"a\") as file:\n",
    "    # Write the new data to the file\n",
    "    file.write(\"This is the new data being appended.\\n\")\n",
    "    file.write(\"Another line of appended text.\\n\")\n",
    "\n",
    "print(\"Data appended successfully.\")\n"
   ]
  },
  {
   "cell_type": "markdown",
   "id": "9cd19fb0",
   "metadata": {},
   "source": [
    "#### 11.Write a Python program that uses a try-except block to handle an error when attempting to access a dictionary key that doesn't exist"
   ]
  },
  {
   "cell_type": "code",
   "execution_count": 18,
   "id": "e25819a8",
   "metadata": {},
   "outputs": [
    {
     "name": "stdout",
     "output_type": "stream",
     "text": [
      "Error: The key 'country' does not exist in the dictionary.\n"
     ]
    }
   ],
   "source": [
    "\n",
    "my_dict = {\n",
    "    \"name\": \"Sunil\",\n",
    "    \"age\": 34,\n",
    "    \"city\": \"Hyd\"\n",
    "}\n",
    "\n",
    "# Attempt to access a key that may or may not exist in the dictionary\n",
    "key_to_access = \"country\"\n",
    "\n",
    "try:\n",
    "    # Try to access the value for the key\n",
    "    value = my_dict[key_to_access]\n",
    "    print(f\"The value for the key '{key_to_access}' is: {value}\")\n",
    "except KeyError:\n",
    "    # Handle the error if the key doesn't exist\n",
    "    print(f\"Error: The key '{key_to_access}' does not exist in the dictionary.\")\n"
   ]
  },
  {
   "cell_type": "markdown",
   "id": "029fb4ee",
   "metadata": {},
   "source": [
    "#### 12. Write a program that demonstrates using multiple except blocks to handle different types of exceptions"
   ]
  },
  {
   "cell_type": "code",
   "execution_count": 19,
   "id": "9f4567d1",
   "metadata": {},
   "outputs": [
    {
     "name": "stdout",
     "output_type": "stream",
     "text": [
      "Enter a number to simulate an error (1 for ZeroDivisionError, 2 for ValueError, 3 for IndexError): 1\n",
      "Error: Division by zero occurred.\n"
     ]
    }
   ],
   "source": [
    "# Function to demonstrate multiple exception handling\n",
    "def handle_exceptions():\n",
    "    try:\n",
    "        # Simulate different errors\n",
    "        choice = int(input(\"Enter a number to simulate an error (1 for ZeroDivisionError, 2 for ValueError, 3 for IndexError): \"))\n",
    "        \n",
    "        if choice == 1:\n",
    "            # ZeroDivisionError: Division by zero\n",
    "            result = 10 / 0\n",
    "        elif choice == 2:\n",
    "            # ValueError: Invalid input conversion\n",
    "            value = int(\"invalid\")\n",
    "        elif choice == 3:\n",
    "            # IndexError: Accessing an invalid index in a list\n",
    "            my_list = [1, 2, 3]\n",
    "            print(my_list[5])\n",
    "        else:\n",
    "            print(\"Invalid choice, no error simulation.\")\n",
    "            \n",
    "    except ZeroDivisionError:\n",
    "        print(\"Error: Division by zero occurred.\")\n",
    "    except ValueError:\n",
    "        print(\"Error: Invalid value. Could not convert input.\")\n",
    "    except IndexError:\n",
    "        print(\"Error: List index out of range.\")\n",
    "    except Exception as e:\n",
    "        # Generic exception to catch other types of errors\n",
    "        print(f\"An unexpected error occurred: {e}\")\n",
    "\n",
    "# Call the function to test\n",
    "handle_exceptions()\n"
   ]
  },
  {
   "cell_type": "markdown",
   "id": "f83dac98",
   "metadata": {},
   "source": [
    "#### 13.How would you check if a file exists before attempting to read it in Python"
   ]
  },
  {
   "cell_type": "code",
   "execution_count": 21,
   "id": "fc27066c",
   "metadata": {},
   "outputs": [
    {
     "name": "stdout",
     "output_type": "stream",
     "text": [
      "File content:\n",
      "Hello Pwskills.Welcome to AIGen Program.This is the new data being appended.\n",
      "Another line of appended text.\n",
      "\n"
     ]
    }
   ],
   "source": [
    "import os\n",
    "\n",
    "file_path = \"Sample_data.txt\"\n",
    "\n",
    "# Check if the file exists\n",
    "if os.path.exists(file_path):\n",
    "    try:\n",
    "        # Open and read the file if it exists\n",
    "        with open(file_path, 'r') as file:\n",
    "            content = file.read()\n",
    "            print(\"File content:\")\n",
    "            print(content)\n",
    "    except Exception as e:\n",
    "        print(f\"An error occurred: {e}\")\n",
    "else:\n",
    "    print(f\"The file {file_path} does not exist.\")\n"
   ]
  },
  {
   "cell_type": "markdown",
   "id": "dd40e532",
   "metadata": {},
   "source": [
    "#### 14. Write a program that uses the logging module to log both informational and error messages"
   ]
  },
  {
   "cell_type": "code",
   "execution_count": 24,
   "id": "36405d8c",
   "metadata": {},
   "outputs": [],
   "source": [
    "import logging\n",
    "\n",
    "# Set up basic configuration for logging\n",
    "logging.basicConfig(\n",
    "    level=logging.DEBUG,  # Set the logging level to DEBUG to capture all messages\n",
    "    format='%(asctime)s - %(levelname)s - %(message)s',  # Format log messages with timestamp, log level, and message\n",
    ")\n",
    "\n",
    "# Log an informational message\n",
    "logging.info(\"This is an informational message.\")\n",
    "\n",
    "# Log an error message\n",
    "try:\n",
    "    result = 10 / 0  # This will raise a ZeroDivisionError\n",
    "except ZeroDivisionError as e:\n",
    "    logging.error(\"An error occurred: %s\", e)\n",
    "\n",
    "# You can log other levels of messages as well\n",
    "logging.debug(\"This is a debug message.\")\n",
    "logging.warning(\"This is a warning message.\")\n",
    "logging.critical(\"This is a critical message.\")\n"
   ]
  },
  {
   "cell_type": "markdown",
   "id": "7a2b7109",
   "metadata": {},
   "source": [
    "#### 15. Write a Python program that prints the content of a file and handles the case when the file is empty"
   ]
  },
  {
   "cell_type": "code",
   "execution_count": 27,
   "id": "24b51af7",
   "metadata": {},
   "outputs": [
    {
     "name": "stdout",
     "output_type": "stream",
     "text": [
      "Error: The file at your_file.txt does not exist.\n"
     ]
    }
   ],
   "source": [
    "def read_file(file_path):\n",
    "    try:\n",
    "        # Open the file in read mode\n",
    "        with open(file_path, 'r') as file:\n",
    "            content = file.read()\n",
    "            \n",
    "            # Check if the file is empty\n",
    "            if not content:\n",
    "                print(\"The file is empty.\")\n",
    "            else:\n",
    "                print(\"File content:\")\n",
    "                print(content)\n",
    "    except FileNotFoundError:\n",
    "        print(f\"Error: The file at {file_path} does not exist.\")\n",
    "    except IOError:\n",
    "        print(f\"Error: An IOError occurred while trying to read the file at {file_path}.\")\n",
    "\n",
    "# Replace 'your_file.txt' with the path of the file you want to read\n",
    "file_path = 'your_file.txt'\n",
    "read_file(file_path)\n",
    "\n"
   ]
  },
  {
   "cell_type": "markdown",
   "id": "240105b5",
   "metadata": {},
   "source": [
    "#### 16. Demonstrate how to use memory profiling to check the memory usage of a small program"
   ]
  },
  {
   "cell_type": "code",
   "execution_count": 28,
   "id": "7f505b18",
   "metadata": {},
   "outputs": [
    {
     "name": "stdout",
     "output_type": "stream",
     "text": [
      "Collecting memory_profiler\n",
      "  Obtaining dependency information for memory_profiler from https://files.pythonhosted.org/packages/49/26/aaca612a0634ceede20682e692a6c55e35a94c21ba36b807cc40fe910ae1/memory_profiler-0.61.0-py3-none-any.whl.metadata\n",
      "  Downloading memory_profiler-0.61.0-py3-none-any.whl.metadata (20 kB)\n",
      "Requirement already satisfied: psutil in c:\\users\\drsun\\anaconda3\\lib\\site-packages (from memory_profiler) (5.9.0)\n",
      "Downloading memory_profiler-0.61.0-py3-none-any.whl (31 kB)\n",
      "Installing collected packages: memory_profiler\n",
      "Successfully installed memory_profiler-0.61.0\n",
      "Note: you may need to restart the kernel to use updated packages.\n"
     ]
    }
   ],
   "source": [
    "pip install memory_profiler"
   ]
  },
  {
   "cell_type": "code",
   "execution_count": null,
   "id": "a374292f",
   "metadata": {},
   "outputs": [],
   "source": [
    "# memory_test.py\n",
    "from memory_profiler import profile\n",
    "\n",
    "@profile\n",
    "def my_function():\n",
    "    a = [1] * (10**6)  # Create a list with 1 million integers\n",
    "    b = [2] * (2 * 10**7)  # Create a list with 20 million integers\n",
    "    del b  # Delete the second list\n",
    "    return a\n",
    "\n",
    "if __name__ == \"__main__\":\n",
    "    my_function()\n"
   ]
  },
  {
   "cell_type": "markdown",
   "id": "d96ea08c",
   "metadata": {},
   "source": [
    "#### 17. Write a Python program to create and write a list of numbers to a file, one number per line"
   ]
  },
  {
   "cell_type": "code",
   "execution_count": 3,
   "id": "e4781662",
   "metadata": {
    "collapsed": true
   },
   "outputs": [
    {
     "name": "stdout",
     "output_type": "stream",
     "text": [
      "Numbers have been written to 'numbers.txt'.\n"
     ]
    }
   ],
   "source": [
    "Sample_list = [1, 2, 3, 4, 5, 6, 7, 8, 9, 10]\n",
    "\n",
    "# Open the file in write mode ('w')\n",
    "with open('Sample_list.txt', 'w') as file:\n",
    "    # Write each number to the file, one per line\n",
    "    for number in Sample_list:\n",
    "        file.write(f\"{number}\\n\")\n",
    "\n",
    "print(\"Numbers have been written to 'numbers.txt'.\")\n"
   ]
  },
  {
   "cell_type": "markdown",
   "id": "a6a82d9d",
   "metadata": {},
   "source": [
    "#### 18.How would you implement a basic logging setup that logs to a file with rotation after 1MB"
   ]
  },
  {
   "cell_type": "code",
   "execution_count": 4,
   "id": "bb647f74",
   "metadata": {},
   "outputs": [],
   "source": [
    "import logging\n",
    "from logging.handlers import RotatingFileHandler\n",
    "\n",
    "# Set up logging configuration\n",
    "def setup_logging():\n",
    "    # Create a RotatingFileHandler that rotates after 1MB\n",
    "    handler = RotatingFileHandler('app.log', maxBytes=1e6, backupCount=3)\n",
    "    \n",
    "    # Create a logging format\n",
    "    formatter = logging.Formatter('%(asctime)s - %(levelname)s - %(message)s')\n",
    "    handler.setFormatter(formatter)\n",
    "\n",
    "    # Set up the root logger\n",
    "    logger = logging.getLogger()\n",
    "    logger.setLevel(logging.DEBUG)  # Log everything at DEBUG level or higher\n",
    "    logger.addHandler(handler)\n",
    "\n",
    "# Example usage of logging\n",
    "def main():\n",
    "    setup_logging()\n",
    "    \n",
    "    # Log messages\n",
    "    logging.debug(\"This is a debug message\")\n",
    "    logging.info(\"This is an info message\")\n",
    "    logging.warning(\"This is a warning message\")\n",
    "    logging.error(\"This is an error message\")\n",
    "    logging.critical(\"This is a critical message\")\n",
    "\n",
    "if __name__ == \"__main__\":\n",
    "    main()\n"
   ]
  },
  {
   "cell_type": "markdown",
   "id": "99e2bac4",
   "metadata": {},
   "source": [
    "#### 19.Write a program that handles both IndexError and KeyError using a try-except block"
   ]
  },
  {
   "cell_type": "code",
   "execution_count": 12,
   "id": "f503746e",
   "metadata": {},
   "outputs": [
    {
     "name": "stdout",
     "output_type": "stream",
     "text": [
      "IndexError occurred: list index out of range\n",
      "KeyError occurred: 'd'\n"
     ]
    }
   ],
   "source": [
    "def handle_errors():\n",
    "    # Define a list and a dictionary\n",
    "    my_list = [10, 20, 30]\n",
    "    my_dict = {'a': 1, 'b': 2, 'c': 3}\n",
    "\n",
    "    try:\n",
    "        # Trying to access an invalid index in the list\n",
    "        print(my_list[5])  # IndexError: list index out of range\n",
    "    except IndexError as e:\n",
    "        print(f\"IndexError occurred: {e}\")\n",
    "    \n",
    "    try:\n",
    "        # Trying to access a key that doesn't exist in the dictionary\n",
    "        print(my_dict['d'])  # KeyError: 'd'\n",
    "    except KeyError as e:\n",
    "        print(f\"KeyError occurred: {e}\")\n",
    "\n",
    "if __name__ == \"__main__\":\n",
    "    handle_errors()\n"
   ]
  },
  {
   "cell_type": "markdown",
   "id": "f14aabd7",
   "metadata": {},
   "source": [
    "#### 20.How would you open a file and read its contents using a context manager in Python"
   ]
  },
  {
   "cell_type": "code",
   "execution_count": 16,
   "id": "007a859c",
   "metadata": {},
   "outputs": [
    {
     "name": "stdout",
     "output_type": "stream",
     "text": [
      "Hello Pwskills.Welcome to AIGen Program.This is the new data being appended.\n",
      "Another line of appended text.\n",
      "\n"
     ]
    }
   ],
   "source": [
    "# Open and read the contents of a file using a context manager\n",
    "def read_file():\n",
    "    # Using 'with' statement to open the file\n",
    "    with open('Sample_data.txt', 'r') as file:\n",
    "        # Read the contents of the file\n",
    "        contents = file.read()\n",
    "        print(contents)\n",
    "\n",
    "if __name__ == \"__main__\":\n",
    "    read_file()\n"
   ]
  },
  {
   "cell_type": "markdown",
   "id": "690032a2",
   "metadata": {},
   "source": [
    "#### 21. Write a Python program that reads a file and prints the number of occurrences of a specific word"
   ]
  },
  {
   "cell_type": "code",
   "execution_count": 19,
   "id": "d01bf5c7",
   "metadata": {},
   "outputs": [
    {
     "name": "stdout",
     "output_type": "stream",
     "text": [
      "The word 'appended.' occurs 1 times in the file 'Sample_data.txt'.\n"
     ]
    }
   ],
   "source": [
    "def count_word_occurrences(filename, target_word):\n",
    "    # Open the file using a context manager\n",
    "    with open(filename, 'r') as file:\n",
    "        # Initialize a counter for the occurrences of the target word\n",
    "        count = 0\n",
    "        \n",
    "        # Iterate through each line in the file\n",
    "        for line in file:\n",
    "            # Split the line into words and count occurrences of the target word\n",
    "            words = line.split()\n",
    "            count += words.count(target_word)\n",
    "    \n",
    "    # Print the number of occurrences\n",
    "    print(f\"The word '{target_word}' occurs {count} times in the file '{filename}'.\")\n",
    "\n",
    "if __name__ == \"__main__\":\n",
    "    # Example usage\n",
    "    filename = 'Sample_data.txt'  # Replace with your file name\n",
    "    target_word = 'appended.'  # Replace with the word you want to count\n",
    "    count_word_occurrences(filename, target_word)\n"
   ]
  },
  {
   "cell_type": "markdown",
   "id": "05a5cd1d",
   "metadata": {},
   "source": [
    "#### 22. How can you check if a file is empty before attempting to read its contents"
   ]
  },
  {
   "cell_type": "code",
   "execution_count": 20,
   "id": "f100c40e",
   "metadata": {},
   "outputs": [
    {
     "name": "stdout",
     "output_type": "stream",
     "text": [
      "File contents:\n",
      "Hello Pwskills.Welcome to AIGen Program.This is the new data being appended.\n",
      "Another line of appended text.\n",
      "\n"
     ]
    }
   ],
   "source": [
    "def read_file(filename):\n",
    "    with open(filename, 'r') as file:\n",
    "        contents = file.read()\n",
    "        if not contents:\n",
    "            print(f\"The file '{filename}' is empty.\")\n",
    "            return\n",
    "        \n",
    "        print(f\"File contents:\\n{contents}\")\n",
    "\n",
    "if __name__ == \"__main__\":\n",
    "    filename = 'Sample_data.txt'  # Replace with your file name\n",
    "    read_file(filename)\n"
   ]
  },
  {
   "cell_type": "markdown",
   "id": "236ca4c2",
   "metadata": {},
   "source": [
    "#### 23.Write a Python program that writes to a log file when an error occurs during file handling"
   ]
  },
  {
   "cell_type": "code",
   "execution_count": 21,
   "id": "7b97007c",
   "metadata": {},
   "outputs": [
    {
     "name": "stdout",
     "output_type": "stream",
     "text": [
      "Error: The file 'nonexistent_file.txt' was not found.\n"
     ]
    }
   ],
   "source": [
    "import logging\n",
    "\n",
    "# Set up logging configuration\n",
    "logging.basicConfig(\n",
    "    filename='error_log.txt',  # Log file where errors will be recorded\n",
    "    level=logging.ERROR,       # Log only ERROR and above severity\n",
    "    format='%(asctime)s - %(levelname)s - %(message)s',  # Log format\n",
    ")\n",
    "\n",
    "def read_file(filename):\n",
    "    try:\n",
    "        # Try to open and read the file\n",
    "        with open(filename, 'r') as file:\n",
    "            contents = file.read()\n",
    "            print(contents)\n",
    "    \n",
    "    except FileNotFoundError as e:\n",
    "        logging.error(f\"FileNotFoundError: {e} - The file '{filename}' was not found.\")\n",
    "        print(f\"Error: The file '{filename}' was not found.\")\n",
    "    \n",
    "    except PermissionError as e:\n",
    "        logging.error(f\"PermissionError: {e} - Permission denied while accessing '{filename}'.\")\n",
    "        print(f\"Error: Permission denied while accessing '{filename}'.\")\n",
    "    \n",
    "    except Exception as e:\n",
    "        logging.error(f\"Exception: {e} - An unexpected error occurred while handling the file '{filename}'.\")\n",
    "        print(\"An unexpected error occurred. Please check the error log for details.\")\n",
    "\n",
    "if __name__ == \"__main__\":\n",
    "    filename = 'nonexistent_file.txt'  # Replace with the file name you want to test\n",
    "    read_file(filename)\n"
   ]
  },
  {
   "cell_type": "code",
   "execution_count": null,
   "id": "17fcaf09",
   "metadata": {},
   "outputs": [],
   "source": []
  },
  {
   "cell_type": "code",
   "execution_count": null,
   "id": "4cd5a7ed",
   "metadata": {},
   "outputs": [],
   "source": []
  },
  {
   "cell_type": "code",
   "execution_count": null,
   "id": "a5deb18d",
   "metadata": {},
   "outputs": [],
   "source": []
  },
  {
   "cell_type": "code",
   "execution_count": null,
   "id": "a3c33eb7",
   "metadata": {},
   "outputs": [],
   "source": []
  },
  {
   "cell_type": "code",
   "execution_count": null,
   "id": "40695cd2",
   "metadata": {},
   "outputs": [],
   "source": []
  },
  {
   "cell_type": "code",
   "execution_count": null,
   "id": "df644922",
   "metadata": {},
   "outputs": [],
   "source": []
  },
  {
   "cell_type": "code",
   "execution_count": null,
   "id": "35f6e590",
   "metadata": {},
   "outputs": [],
   "source": []
  },
  {
   "cell_type": "code",
   "execution_count": null,
   "id": "63a9949d",
   "metadata": {},
   "outputs": [],
   "source": []
  },
  {
   "cell_type": "code",
   "execution_count": null,
   "id": "912acf1f",
   "metadata": {},
   "outputs": [],
   "source": []
  },
  {
   "cell_type": "code",
   "execution_count": null,
   "id": "da0b7033",
   "metadata": {},
   "outputs": [],
   "source": []
  },
  {
   "cell_type": "code",
   "execution_count": null,
   "id": "dc2561ca",
   "metadata": {},
   "outputs": [],
   "source": []
  },
  {
   "cell_type": "code",
   "execution_count": null,
   "id": "734a9dd2",
   "metadata": {},
   "outputs": [],
   "source": []
  },
  {
   "cell_type": "code",
   "execution_count": null,
   "id": "094e3fb4",
   "metadata": {},
   "outputs": [],
   "source": []
  },
  {
   "cell_type": "code",
   "execution_count": null,
   "id": "61c0952d",
   "metadata": {},
   "outputs": [],
   "source": []
  },
  {
   "cell_type": "code",
   "execution_count": null,
   "id": "6e9c2179",
   "metadata": {},
   "outputs": [],
   "source": []
  },
  {
   "cell_type": "code",
   "execution_count": null,
   "id": "a88eabf0",
   "metadata": {},
   "outputs": [],
   "source": []
  },
  {
   "cell_type": "code",
   "execution_count": null,
   "id": "c53d074b",
   "metadata": {},
   "outputs": [],
   "source": []
  },
  {
   "cell_type": "code",
   "execution_count": null,
   "id": "3e2a263e",
   "metadata": {},
   "outputs": [],
   "source": []
  },
  {
   "cell_type": "code",
   "execution_count": null,
   "id": "a8a52aed",
   "metadata": {},
   "outputs": [],
   "source": []
  },
  {
   "cell_type": "code",
   "execution_count": null,
   "id": "84157359",
   "metadata": {},
   "outputs": [],
   "source": []
  },
  {
   "cell_type": "code",
   "execution_count": null,
   "id": "3bd5330d",
   "metadata": {},
   "outputs": [],
   "source": []
  },
  {
   "cell_type": "code",
   "execution_count": null,
   "id": "3b387bd9",
   "metadata": {},
   "outputs": [],
   "source": []
  },
  {
   "cell_type": "code",
   "execution_count": null,
   "id": "c124455e",
   "metadata": {},
   "outputs": [],
   "source": []
  },
  {
   "cell_type": "code",
   "execution_count": null,
   "id": "11a613b5",
   "metadata": {},
   "outputs": [],
   "source": []
  },
  {
   "cell_type": "code",
   "execution_count": null,
   "id": "da95eb34",
   "metadata": {},
   "outputs": [],
   "source": []
  },
  {
   "cell_type": "code",
   "execution_count": null,
   "id": "2bfeb8fa",
   "metadata": {},
   "outputs": [],
   "source": []
  },
  {
   "cell_type": "code",
   "execution_count": null,
   "id": "54979b02",
   "metadata": {},
   "outputs": [],
   "source": []
  },
  {
   "cell_type": "code",
   "execution_count": null,
   "id": "a582a725",
   "metadata": {},
   "outputs": [],
   "source": []
  },
  {
   "cell_type": "code",
   "execution_count": null,
   "id": "bfe5a6fb",
   "metadata": {},
   "outputs": [],
   "source": []
  },
  {
   "cell_type": "code",
   "execution_count": null,
   "id": "159a2efb",
   "metadata": {},
   "outputs": [],
   "source": []
  },
  {
   "cell_type": "code",
   "execution_count": null,
   "id": "f031cc01",
   "metadata": {},
   "outputs": [],
   "source": []
  },
  {
   "cell_type": "code",
   "execution_count": null,
   "id": "ad2e3989",
   "metadata": {},
   "outputs": [],
   "source": []
  },
  {
   "cell_type": "code",
   "execution_count": null,
   "id": "a51d7a4f",
   "metadata": {},
   "outputs": [],
   "source": []
  },
  {
   "cell_type": "code",
   "execution_count": null,
   "id": "bccdfc34",
   "metadata": {},
   "outputs": [],
   "source": []
  },
  {
   "cell_type": "code",
   "execution_count": null,
   "id": "dbf5481a",
   "metadata": {},
   "outputs": [],
   "source": []
  },
  {
   "cell_type": "code",
   "execution_count": null,
   "id": "42bd75ce",
   "metadata": {},
   "outputs": [],
   "source": []
  },
  {
   "cell_type": "code",
   "execution_count": null,
   "id": "c4448bf3",
   "metadata": {},
   "outputs": [],
   "source": []
  },
  {
   "cell_type": "code",
   "execution_count": null,
   "id": "388cffcb",
   "metadata": {},
   "outputs": [],
   "source": []
  },
  {
   "cell_type": "code",
   "execution_count": null,
   "id": "198ca34d",
   "metadata": {},
   "outputs": [],
   "source": []
  },
  {
   "cell_type": "code",
   "execution_count": null,
   "id": "c1166cd4",
   "metadata": {},
   "outputs": [],
   "source": []
  },
  {
   "cell_type": "code",
   "execution_count": null,
   "id": "467d1200",
   "metadata": {},
   "outputs": [],
   "source": []
  },
  {
   "cell_type": "code",
   "execution_count": null,
   "id": "fa9bf0e0",
   "metadata": {},
   "outputs": [],
   "source": []
  },
  {
   "cell_type": "code",
   "execution_count": null,
   "id": "63390e53",
   "metadata": {},
   "outputs": [],
   "source": []
  },
  {
   "cell_type": "code",
   "execution_count": null,
   "id": "d777fa1e",
   "metadata": {},
   "outputs": [],
   "source": []
  },
  {
   "cell_type": "code",
   "execution_count": null,
   "id": "5b185bb3",
   "metadata": {},
   "outputs": [],
   "source": []
  },
  {
   "cell_type": "code",
   "execution_count": null,
   "id": "ac3b0d7f",
   "metadata": {},
   "outputs": [],
   "source": []
  },
  {
   "cell_type": "code",
   "execution_count": null,
   "id": "4f86599b",
   "metadata": {},
   "outputs": [],
   "source": []
  },
  {
   "cell_type": "code",
   "execution_count": null,
   "id": "ded217d0",
   "metadata": {},
   "outputs": [],
   "source": []
  },
  {
   "cell_type": "code",
   "execution_count": null,
   "id": "a87a1827",
   "metadata": {},
   "outputs": [],
   "source": []
  },
  {
   "cell_type": "code",
   "execution_count": null,
   "id": "e16b32c2",
   "metadata": {},
   "outputs": [],
   "source": []
  },
  {
   "cell_type": "code",
   "execution_count": null,
   "id": "315d71cd",
   "metadata": {},
   "outputs": [],
   "source": []
  },
  {
   "cell_type": "markdown",
   "id": "d3bf582f",
   "metadata": {},
   "source": [
    "#### "
   ]
  }
 ],
 "metadata": {
  "kernelspec": {
   "display_name": "Python 3 (ipykernel)",
   "language": "python",
   "name": "python3"
  },
  "language_info": {
   "codemirror_mode": {
    "name": "ipython",
    "version": 3
   },
   "file_extension": ".py",
   "mimetype": "text/x-python",
   "name": "python",
   "nbconvert_exporter": "python",
   "pygments_lexer": "ipython3",
   "version": "3.11.5"
  }
 },
 "nbformat": 4,
 "nbformat_minor": 5
}
