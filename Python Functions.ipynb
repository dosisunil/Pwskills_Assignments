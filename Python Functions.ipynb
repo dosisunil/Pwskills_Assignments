{
 "cells": [
  {
   "cell_type": "markdown",
   "id": "fa692f13",
   "metadata": {},
   "source": [
    "###### Theory Questions"
   ]
  },
  {
   "cell_type": "markdown",
   "id": "8fa1054f",
   "metadata": {},
   "source": [
    "#### 1.What is the difference between a function and a method in Python"
   ]
  },
  {
   "cell_type": "markdown",
   "id": "dbabf762",
   "metadata": {},
   "source": [
    "In Python, both functions and methods are callable objects that perform operations, \n",
    "but they have key differences based on their context and how they are defined."
   ]
  },
  {
   "cell_type": "markdown",
   "id": "b2053b3e",
   "metadata": {},
   "source": [
    "1.A function is a block of reusable code that performs a specific task\n",
    "Definition: Functions are defined outside of any object.\n",
    "Usage: Functions are called by their name, followed by parentheses."
   ]
  },
  {
   "cell_type": "code",
   "execution_count": 1,
   "id": "92f1f278",
   "metadata": {},
   "outputs": [],
   "source": [
    "#example for function\n",
    "\n",
    "def greeting(name):\n",
    "    return f\"Hello, {name}!\"\n",
    "\n",
    "\n"
   ]
  },
  {
   "cell_type": "code",
   "execution_count": 2,
   "id": "c55dd52c",
   "metadata": {},
   "outputs": [
    {
     "name": "stdout",
     "output_type": "stream",
     "text": [
      "Hello, Sunil!\n"
     ]
    }
   ],
   "source": [
    "print(greeting(\"Sunil\")) "
   ]
  },
  {
   "cell_type": "markdown",
   "id": "a02076b8",
   "metadata": {},
   "source": [
    "#### Method still not conver in  functions topic it will be in next module oops"
   ]
  },
  {
   "cell_type": "markdown",
   "id": "92fdf332",
   "metadata": {},
   "source": [
    "A method is a function that is associated with an object\n",
    "Definition: Methods are defined inside a class.\n"
   ]
  },
  {
   "cell_type": "code",
   "execution_count": 5,
   "id": "f6eb66b4",
   "metadata": {},
   "outputs": [
    {
     "name": "stdout",
     "output_type": "stream",
     "text": [
      "Hello, Sunil!\n"
     ]
    }
   ],
   "source": [
    "#example for method still ned to classify why __init__ is used sample code get from google\n",
    "\n",
    "class Person:\n",
    "    def __init__(self, name):\n",
    "        self.name = name\n",
    "   \n",
    "    def greeting(self): #method in side the calss\n",
    "        return f\"Hello, {self.name}!\"\n",
    "\n",
    "person = Person(\"Sunil\") #object creating \n",
    "print(person.greeting()) #"
   ]
  },
  {
   "cell_type": "markdown",
   "id": "64ef5cd3",
   "metadata": {},
   "source": [
    "#### 2.Explain the concept of function arguments and parameters in Python."
   ]
  },
  {
   "cell_type": "markdown",
   "id": "52beccde",
   "metadata": {},
   "source": [
    "Parameters and arguments are essential concepts when working with functions,\n",
    "allowing data to be passed into functions for processing."
   ]
  },
  {
   "cell_type": "code",
   "execution_count": 12,
   "id": "9a1a2ea7",
   "metadata": {},
   "outputs": [],
   "source": [
    "#example for parameters and arguments \n",
    "def Sample_function(name, course):#here name and course are parameter\n",
    "    print(f\"Hello Students, {name} offered {course}.\")"
   ]
  },
  {
   "cell_type": "code",
   "execution_count": 13,
   "id": "f6c9e761",
   "metadata": {},
   "outputs": [
    {
     "name": "stdout",
     "output_type": "stream",
     "text": [
      "Hello Students, Pwskils offered GenAI.\n"
     ]
    }
   ],
   "source": [
    "#function argurments\n",
    "Sample_function(\"Pwskils\", \"GenAI\")\n"
   ]
  },
  {
   "cell_type": "markdown",
   "id": "8024c4c2",
   "metadata": {},
   "source": [
    "#### 3.What are the different ways to define and call a function in Python?"
   ]
  },
  {
   "cell_type": "markdown",
   "id": "70c3e7e3",
   "metadata": {},
   "source": [
    "1.Simple functions can be defined and called with or without parameters.\n",
    "2.Functions with return values allow output to be returned and used.\n",
    "3.Variable-length arguments and keyword arguments provide flexibility.\n",
    "4.Lambda functions allow quick, anonymous function creation.\n",
    "5.Methods inside classes and decorators add advanced functionality."
   ]
  },
  {
   "cell_type": "code",
   "execution_count": 28,
   "id": "4f074f0a",
   "metadata": {},
   "outputs": [],
   "source": [
    "#example for variable length argumenmts\n",
    "#*kargu, **kargu\n",
    "\n",
    "\n",
    "list1 = [1,2,3,4,5,7]\n",
    "def sum_all(*Sample_list):\n",
    "    sum1= 0\n",
    "    for i in Sample_list:\n",
    "        sum1=sum1+i\n",
    "    return sum1\n",
    "\n"
   ]
  },
  {
   "cell_type": "code",
   "execution_count": 29,
   "id": "05cd88fc",
   "metadata": {},
   "outputs": [
    {
     "data": {
      "text/plain": [
       "22"
      ]
     },
     "execution_count": 29,
     "metadata": {},
     "output_type": "execute_result"
    }
   ],
   "source": [
    "sum_all(*list1) #calling "
   ]
  },
  {
   "cell_type": "code",
   "execution_count": 18,
   "id": "f9d10ae6",
   "metadata": {},
   "outputs": [],
   "source": [
    "#**kargu\n",
    "def sample_vari(**karg):\n",
    "    return karg"
   ]
  },
  {
   "cell_type": "code",
   "execution_count": 20,
   "id": "eda74b01",
   "metadata": {},
   "outputs": [
    {
     "data": {
      "text/plain": [
       "{'inst': 'PWskills', 'Course': 'GenAI'}"
      ]
     },
     "execution_count": 20,
     "metadata": {},
     "output_type": "execute_result"
    }
   ],
   "source": [
    "sample_vari(inst=\"PWskills\",Course=\"GenAI\") #calling "
   ]
  },
  {
   "cell_type": "markdown",
   "id": "a32d73fc",
   "metadata": {},
   "source": [
    "#### 4.What is the purpose of the return statement in a Python function?"
   ]
  },
  {
   "cell_type": "markdown",
   "id": "e3587984",
   "metadata": {},
   "source": [
    "The return statement in a Python function is used to send a result back to the caller and exit the function."
   ]
  },
  {
   "cell_type": "markdown",
   "id": "507931cd",
   "metadata": {},
   "source": [
    "1.Returning a Value:\n",
    "2.Exiting a Function Early\n",
    "3.Returning Multiple Values\n",
    "4.Returning from Recursive Functions:\n",
    "5.Default Return: Functions without a return statement return None by default."
   ]
  },
  {
   "cell_type": "code",
   "execution_count": 33,
   "id": "783f56ae",
   "metadata": {},
   "outputs": [],
   "source": [
    "#example for mutiple returning values \n",
    "\n",
    "def Get_inst_info():\n",
    "    Inst = \"PWskils\"\n",
    "    course_offered1 = \"Data Science\"\n",
    "    course_offered2 = \"GenAI\"\n",
    "    return Inst, course_offered1,course_offered2 "
   ]
  },
  {
   "cell_type": "code",
   "execution_count": 34,
   "id": "444fb7b8",
   "metadata": {},
   "outputs": [
    {
     "data": {
      "text/plain": [
       "('PWskils', 'Data Science', 'GenAI')"
      ]
     },
     "execution_count": 34,
     "metadata": {},
     "output_type": "execute_result"
    }
   ],
   "source": [
    "Get_inst_info()"
   ]
  },
  {
   "cell_type": "code",
   "execution_count": 39,
   "id": "c67e907b",
   "metadata": {},
   "outputs": [],
   "source": [
    "#example for without return \n",
    "\n",
    "def Get_inst_info(Inst,course_offered1,course_offered2):\n",
    "    print(f\"{Inst}{course_offered1}{course_offered2}\")\n",
    "\n"
   ]
  },
  {
   "cell_type": "code",
   "execution_count": 40,
   "id": "e941f32d",
   "metadata": {},
   "outputs": [
    {
     "name": "stdout",
     "output_type": "stream",
     "text": [
      "PWskils  Data Science  GenAI \n",
      "None\n"
     ]
    }
   ],
   "source": [
    "result = Get_inst_info(\"PWskils \",\" Data Science \",\" GenAI \")\n",
    "print(result)  # print the print statement but return none "
   ]
  },
  {
   "cell_type": "markdown",
   "id": "73a6f44d",
   "metadata": {},
   "source": [
    "#### 5. What are iterators in Python and how do they differ from iterables?"
   ]
  },
  {
   "cell_type": "markdown",
   "id": "c4dd762c",
   "metadata": {},
   "source": [
    "In Python, iterators and iterables are two related but distinct concepts.\n",
    "They are both used to traverse through data,"
   ]
  },
  {
   "cell_type": "code",
   "execution_count": null,
   "id": "861599af",
   "metadata": {},
   "outputs": [],
   "source": [
    "#example for iterators and iterables"
   ]
  },
  {
   "cell_type": "code",
   "execution_count": 42,
   "id": "3ea94c68",
   "metadata": {},
   "outputs": [
    {
     "name": "stdout",
     "output_type": "stream",
     "text": [
      "1 2 3 4 "
     ]
    }
   ],
   "source": [
    "Sample_list = [1, 2, 3, 4]\n",
    "for item in Sample_list:\n",
    "    print(item,end= \" \")  # Iterating over the list (which is an iterable)\n",
    "#In this example, Sample_list is an iterable because we can use it in a for loop."
   ]
  },
  {
   "cell_type": "code",
   "execution_count": 43,
   "id": "1ca296cf",
   "metadata": {
    "collapsed": true
   },
   "outputs": [
    {
     "name": "stdout",
     "output_type": "stream",
     "text": [
      "1\n",
      "2\n",
      "3\n",
      "4\n"
     ]
    }
   ],
   "source": [
    "Sample_list = [1, 2, 3, 4]\n",
    "iterator = iter(Sample_list)  # Create an iterator from the iterable\n",
    "\n",
    "print(next(iterator))  # Output: 1\n",
    "print(next(iterator))  # Output: 2\n",
    "print(next(iterator))  # Output: 3\n",
    "print(next(iterator))  # Output: 4\n",
    "# The next() function will now raise StopIteration as the iterator is exhausted"
   ]
  },
  {
   "cell_type": "code",
   "execution_count": 44,
   "id": "bc95b347",
   "metadata": {
    "collapsed": true
   },
   "outputs": [
    {
     "ename": "StopIteration",
     "evalue": "",
     "output_type": "error",
     "traceback": [
      "\u001b[1;31m---------------------------------------------------------------------------\u001b[0m",
      "\u001b[1;31mStopIteration\u001b[0m                             Traceback (most recent call last)",
      "Cell \u001b[1;32mIn[44], line 1\u001b[0m\n\u001b[1;32m----> 1\u001b[0m \u001b[38;5;28mprint\u001b[39m(\u001b[38;5;28mnext\u001b[39m(iterator))\n",
      "\u001b[1;31mStopIteration\u001b[0m: "
     ]
    }
   ],
   "source": [
    "print(next(iterator))"
   ]
  },
  {
   "cell_type": "markdown",
   "id": "16737949",
   "metadata": {},
   "source": [
    "#### 6.Explain the concept of generators in Python and how they are defined."
   ]
  },
  {
   "cell_type": "markdown",
   "id": "c4245581",
   "metadata": {},
   "source": [
    "A generator is defined using a function with the yield keyword instead of return.\n",
    "When the yield statement is encountered, the function produces a value and pauses its execution\n",
    "allowing it to be resumed later."
   ]
  },
  {
   "cell_type": "code",
   "execution_count": 46,
   "id": "5012143c",
   "metadata": {},
   "outputs": [],
   "source": [
    "#example for generators\n",
    "#using generator \n",
    "def samplefibgen(n):\n",
    "    a= 0\n",
    "    b= 1\n",
    "    for i in range(n):\n",
    "        yield a # the function produces a value and pauses its execution allowing it to be resumed later.\n",
    "        a,b = b,a+b\n"
   ]
  },
  {
   "cell_type": "code",
   "execution_count": 48,
   "id": "07e65e89",
   "metadata": {},
   "outputs": [],
   "source": [
    "fibo = samplefibgen(4)"
   ]
  },
  {
   "cell_type": "code",
   "execution_count": 50,
   "id": "0788f6da",
   "metadata": {
    "collapsed": true
   },
   "outputs": [
    {
     "data": {
      "text/plain": [
       "0"
      ]
     },
     "execution_count": 50,
     "metadata": {},
     "output_type": "execute_result"
    }
   ],
   "source": [
    "next(fibo)"
   ]
  },
  {
   "cell_type": "code",
   "execution_count": 51,
   "id": "c0dec900",
   "metadata": {
    "collapsed": true
   },
   "outputs": [
    {
     "data": {
      "text/plain": [
       "1"
      ]
     },
     "execution_count": 51,
     "metadata": {},
     "output_type": "execute_result"
    }
   ],
   "source": [
    "next(fibo)"
   ]
  },
  {
   "cell_type": "code",
   "execution_count": 52,
   "id": "fa75f20c",
   "metadata": {
    "collapsed": true
   },
   "outputs": [
    {
     "data": {
      "text/plain": [
       "1"
      ]
     },
     "execution_count": 52,
     "metadata": {},
     "output_type": "execute_result"
    }
   ],
   "source": [
    "next(fibo)"
   ]
  },
  {
   "cell_type": "code",
   "execution_count": 54,
   "id": "aa357cc5",
   "metadata": {
    "collapsed": true
   },
   "outputs": [
    {
     "data": {
      "text/plain": [
       "2"
      ]
     },
     "execution_count": 54,
     "metadata": {},
     "output_type": "execute_result"
    }
   ],
   "source": [
    "next(fibo)"
   ]
  },
  {
   "cell_type": "code",
   "execution_count": 55,
   "id": "0fd45880",
   "metadata": {
    "collapsed": true
   },
   "outputs": [
    {
     "ename": "StopIteration",
     "evalue": "",
     "output_type": "error",
     "traceback": [
      "\u001b[1;31m---------------------------------------------------------------------------\u001b[0m",
      "\u001b[1;31mStopIteration\u001b[0m                             Traceback (most recent call last)",
      "Cell \u001b[1;32mIn[55], line 1\u001b[0m\n\u001b[1;32m----> 1\u001b[0m \u001b[38;5;28mnext\u001b[39m(fibo)\n",
      "\u001b[1;31mStopIteration\u001b[0m: "
     ]
    }
   ],
   "source": [
    "next(fibo)"
   ]
  },
  {
   "cell_type": "markdown",
   "id": "9ad91b0b",
   "metadata": {},
   "source": [
    "#### 7.What are the advantages of using generators over regular functions?"
   ]
  },
  {
   "cell_type": "markdown",
   "id": "73dab3a8",
   "metadata": {},
   "source": [
    "Memory Efficiency:\n",
    "Generator:Produces values on demand, no need to store the entire sequence in memory.\n",
    "Regular Function:Stores the entire result (e.g., list) in memory.\n",
    "    \n",
    "generators are ideal for situations where you need efficient,\n",
    "memory-conserving iteration over large data, infinite sequences, or complex pipelines. \n",
    "They provide cleaner, more modular code while improving performance compared to regular functions that \n",
    "return large collections.\n",
    "        \n",
    "    "
   ]
  },
  {
   "cell_type": "code",
   "execution_count": 58,
   "id": "57414bd0",
   "metadata": {
    "collapsed": true
   },
   "outputs": [
    {
     "name": "stdout",
     "output_type": "stream",
     "text": [
      "0\n",
      "2\n",
      "4\n"
     ]
    }
   ],
   "source": [
    "#example \n",
    "#If you need only the first few numbers of a sequence, \n",
    "#a generator allows you to retrieve them without creating the entire sequence upfront.\n",
    "\n",
    "gen = (x * 2 for x in range(10))  # Generator expression\n",
    "print(next(gen))  # Outputs 0 (only the first value generated)\n",
    "print(next(gen))\n",
    "print(next(gen))"
   ]
  },
  {
   "cell_type": "markdown",
   "id": "965a2867",
   "metadata": {},
   "source": [
    "#### 8.What is a lambda function in Python and when is it typically used?"
   ]
  },
  {
   "cell_type": "markdown",
   "id": "f6388547",
   "metadata": {},
   "source": [
    "A lambda function in Python is a small, anonymous function defined using the lambda keyword.\n",
    "Unlike regular functions, which are defined using the def keyword"
   ]
  },
  {
   "cell_type": "markdown",
   "id": "af23a2f8",
   "metadata": {},
   "source": [
    "Lambda functions are commonly used in situations where a small function is required temporarily,\n",
    "particularly when working with functions that take other functions as arguments \n",
    "such as in map(), filter(), sorted(), and reduce()). Some typical use cases for lambda functions include"
   ]
  },
  {
   "cell_type": "code",
   "execution_count": 61,
   "id": "40aff49f",
   "metadata": {},
   "outputs": [],
   "source": [
    "#example lambda function\n",
    "sample_funclam = lambda x:x+10"
   ]
  },
  {
   "cell_type": "code",
   "execution_count": 62,
   "id": "d39e312b",
   "metadata": {
    "collapsed": true
   },
   "outputs": [
    {
     "data": {
      "text/plain": [
       "20"
      ]
     },
     "execution_count": 62,
     "metadata": {},
     "output_type": "execute_result"
    }
   ],
   "source": [
    "sample_funclam(10)"
   ]
  },
  {
   "cell_type": "markdown",
   "id": "1f4f4767",
   "metadata": {},
   "source": [
    "#### 9.Explain the purpose and usage of the `map()` function in Python"
   ]
  },
  {
   "cell_type": "markdown",
   "id": "2e2ab597",
   "metadata": {},
   "source": [
    "The map() function in Python is used to apply a given function to all items in an iterable (such as a list, tuple, etc.)\n",
    "and return a map object (which is an iterator) of the results"
   ]
  },
  {
   "cell_type": "code",
   "execution_count": 65,
   "id": "0d391d7f",
   "metadata": {},
   "outputs": [],
   "source": [
    "#example for map()\n",
    "def square(x):\n",
    "    return x * x\n",
    "\n"
   ]
  },
  {
   "cell_type": "code",
   "execution_count": 64,
   "id": "33159de7",
   "metadata": {},
   "outputs": [],
   "source": [
    "list_num = [1,2,3,4]"
   ]
  },
  {
   "cell_type": "code",
   "execution_count": 67,
   "id": "6cad5ae3",
   "metadata": {},
   "outputs": [
    {
     "data": {
      "text/plain": [
       "[1, 4, 9, 16]"
      ]
     },
     "execution_count": 67,
     "metadata": {},
     "output_type": "execute_result"
    }
   ],
   "source": [
    "#map(func,iterable)\n",
    "list(map(square,list_num))"
   ]
  },
  {
   "cell_type": "markdown",
   "id": "2a03578e",
   "metadata": {},
   "source": [
    "#### 10.What is the difference between `map()`, `reduce()`, and `filter()` functions in Python"
   ]
  },
  {
   "cell_type": "markdown",
   "id": "8efca7da",
   "metadata": {},
   "source": [
    "reduce() function is used to apply a function cumulatively to the items of an iterable, \n",
    "from left to right, so as to reduce the iterable to a single value"
   ]
  },
  {
   "cell_type": "code",
   "execution_count": 70,
   "id": "e48e3429",
   "metadata": {},
   "outputs": [
    {
     "name": "stdout",
     "output_type": "stream",
     "text": [
      "10\n"
     ]
    }
   ],
   "source": [
    "#using lambda function  implement reduce \n",
    "\n",
    "from functools import reduce\n",
    "\n",
    "numbers = [1, 2, 3, 4]\n",
    "result = reduce(lambda x, y: x + y, numbers)  # Summing the numbers\n",
    "print(result) "
   ]
  },
  {
   "cell_type": "code",
   "execution_count": null,
   "id": "5f0c703e",
   "metadata": {},
   "outputs": [],
   "source": [
    "#using lambda function implement filter "
   ]
  },
  {
   "cell_type": "markdown",
   "id": "388344d4",
   "metadata": {},
   "source": [
    "The filter() function is used to filter elements from an iterable based on a given function that returns either True or False. \n",
    "It only includes elements in the output iterable for which the function returns True."
   ]
  },
  {
   "cell_type": "code",
   "execution_count": 74,
   "id": "a412d90c",
   "metadata": {},
   "outputs": [
    {
     "name": "stdout",
     "output_type": "stream",
     "text": [
      "[20, 80, 34, 90, 2, 4]\n"
     ]
    }
   ],
   "source": [
    "from functools import reduce\n",
    "\n",
    "numbers = [20,80,45,89,34,90, 2, 3, 4]\n",
    "result = list(filter(lambda x: x%2==0, numbers))  # Summing the numbers\n",
    "print(result) "
   ]
  },
  {
   "cell_type": "markdown",
   "id": "ef1843aa",
   "metadata": {},
   "source": [
    "The map() function applies a given function to all items in an iterable (or iterables) and returns a new iterable (map object) \n",
    "containing the results of the function applied to each item."
   ]
  },
  {
   "cell_type": "code",
   "execution_count": 76,
   "id": "4b6efc19",
   "metadata": {},
   "outputs": [
    {
     "name": "stdout",
     "output_type": "stream",
     "text": [
      "[1, 4, 9, 16]\n"
     ]
    }
   ],
   "source": [
    "#using lambda function implement map \n",
    "numbers = [1, 2, 3, 4]\n",
    "result = list(map(lambda x: x*x, numbers))  # Summing the numbers\n",
    "print(result) "
   ]
  },
  {
   "cell_type": "markdown",
   "id": "655978d5",
   "metadata": {},
   "source": [
    "#### 11.Using pen & Paper write the internal mechanism for sum operation using  reduce function on this given"
   ]
  },
  {
   "cell_type": "code",
   "execution_count": null,
   "id": "abd126cc",
   "metadata": {},
   "outputs": [],
   "source": [
    "#here used jupiter note only  for list:[47,11,42,13]; "
   ]
  },
  {
   "cell_type": "code",
   "execution_count": null,
   "id": "0974f6b1",
   "metadata": {},
   "outputs": [],
   "source": [
    "\"\"\"\"Assumptions:\n",
    "    we will use lambda and reduce (reduce always use 2 arguments only)\n",
    "    reduce  with a lambda function for sum operation lambda x,y :x+y for the list of numbers\n",
    "    \n",
    "1. Function Definition: \n",
    "    "
   ]
  },
  {
   "cell_type": "code",
   "execution_count": 141,
   "id": "23385974",
   "metadata": {},
   "outputs": [
    {
     "name": "stdout",
     "output_type": "stream",
     "text": [
      "113\n"
     ]
    }
   ],
   "source": [
    "from functools import reduce\n",
    "result = reduce(lambda x, y: x + y, [47, 11, 42, 13])\n",
    "print(result)"
   ]
  },
  {
   "cell_type": "code",
   "execution_count": null,
   "id": "0d92148e",
   "metadata": {},
   "outputs": [],
   "source": [
    "\"\"\"\"\"1.First Iteration (Using the first two elements):\n",
    "\n",
    "The first two elements of the list are 47 and 11.\n",
    "The lambda function will be applied:\n",
    "x = 47, y = 11 → 47 + 11 = 58.\n",
    "The intermediate result is now 58.\n",
    "\n",
    "Second Iteration (Using the result from the first iteration and the third element):\n",
    "The current result from the first iteration is 58.\n",
    "The next element in the list is 42.\n",
    "The lambda function will be applied:\n",
    "x = 58, y = 42 → 58 + 42 = 100.\n",
    "The intermediate result is now 100.\n",
    "\n",
    "Third Iteration (Using the result from the second iteration and the fourth element):\n",
    "\n",
    "The current result from the second iteration is 100.\n",
    "The next element in the list is 13.\n",
    "The lambda function will be applied:\n",
    "x = 100, y = 13 → 100 + 13 = 113.\n",
    "The final result is now 113.\n",
    "Final Result:\n",
    "\n",
    "After all iterations, reduce returns 113 as the sum of the list [47, 11, 42, 13]\"\"\""
   ]
  },
  {
   "cell_type": "markdown",
   "id": "03fd9b53",
   "metadata": {},
   "source": [
    "###### Practical Questions:"
   ]
  },
  {
   "cell_type": "markdown",
   "id": "9aec8cc3",
   "metadata": {},
   "source": [
    "#### 1.Write a Python function that takes a list of numbers as input and returns the sum of all even numbers in the list\n"
   ]
  },
  {
   "cell_type": "code",
   "execution_count": 17,
   "id": "d0e9105a",
   "metadata": {},
   "outputs": [],
   "source": [
    "def Sum_all_even_num(sample_list):\n",
    "    sum_all_even = 0\n",
    "    for i in sample_list:\n",
    "        if i %2 == 0:\n",
    "            sum_all_even = sum_all_even+i     \n",
    "    return sum_all_even"
   ]
  },
  {
   "cell_type": "code",
   "execution_count": 27,
   "id": "68341510",
   "metadata": {},
   "outputs": [],
   "source": [
    "Sum_of_all_even_num = Sum_all_even_num([3,90])"
   ]
  },
  {
   "cell_type": "code",
   "execution_count": 28,
   "id": "93c26b29",
   "metadata": {},
   "outputs": [
    {
     "data": {
      "text/plain": [
       "90"
      ]
     },
     "execution_count": 28,
     "metadata": {},
     "output_type": "execute_result"
    }
   ],
   "source": [
    "Sum_of_all_even_num"
   ]
  },
  {
   "cell_type": "markdown",
   "id": "de794f56",
   "metadata": {},
   "source": [
    "#### 2.Create a Python function that accepts a string and returns the reverse of that string."
   ]
  },
  {
   "cell_type": "code",
   "execution_count": 22,
   "id": "ebc683e4",
   "metadata": {},
   "outputs": [],
   "source": [
    "def Sample_str_rev(sample_str):\n",
    "    rev_str = sample_str[::-1]\n",
    "    return rev_str\n"
   ]
  },
  {
   "cell_type": "code",
   "execution_count": 30,
   "id": "f1c2455e",
   "metadata": {},
   "outputs": [
    {
     "data": {
      "text/plain": [
       "'sllikswp'"
      ]
     },
     "execution_count": 30,
     "metadata": {},
     "output_type": "execute_result"
    }
   ],
   "source": [
    "Reverse_str = Sample_str_rev(\"pwskills\")\n",
    "Reverse_str"
   ]
  },
  {
   "cell_type": "markdown",
   "id": "d5f58750",
   "metadata": {},
   "source": [
    "#### 3.Implement a Python function that takes a list of integers and returns a new list containing the squares of  each number\n"
   ]
  },
  {
   "cell_type": "code",
   "execution_count": 31,
   "id": "4e5e961e",
   "metadata": {},
   "outputs": [],
   "source": [
    "def list_return_sq(sample_list):\n",
    "    Sq_list = []\n",
    "    for i in sample_list:\n",
    "        Sq_list.append(i*i)\n",
    "    return Sq_list\n",
    "        \n",
    "\n",
    "    "
   ]
  },
  {
   "cell_type": "code",
   "execution_count": 32,
   "id": "c6930f19",
   "metadata": {},
   "outputs": [],
   "source": [
    "Sq_each_num_list = list_return_sq([1,2,3,-4,-5])"
   ]
  },
  {
   "cell_type": "code",
   "execution_count": 33,
   "id": "d35e5b69",
   "metadata": {},
   "outputs": [
    {
     "data": {
      "text/plain": [
       "[1, 4, 9, 16, 25]"
      ]
     },
     "execution_count": 33,
     "metadata": {},
     "output_type": "execute_result"
    }
   ],
   "source": [
    "Sq_each_num_list"
   ]
  },
  {
   "cell_type": "markdown",
   "id": "3f7ba66a",
   "metadata": {},
   "source": [
    "#### 4.Write a Python function that checks if a given number is prime or not from 1 to 200"
   ]
  },
  {
   "cell_type": "code",
   "execution_count": null,
   "id": "ea4918ba",
   "metadata": {},
   "outputs": [],
   "source": [
    "# If num is divisible by any number between 2 and n / 2, and 1 and 2 number are not prime numbers"
   ]
  },
  {
   "cell_type": "code",
   "execution_count": 45,
   "id": "1dedb8b4",
   "metadata": {},
   "outputs": [],
   "source": [
    "#creating an function for check_for_prime_number\n",
    "def checking_prime(num):\n",
    "    if num<2:\n",
    "        return False\n",
    "    for i in range(2,int(num*0.5)+1): \n",
    "        if num%i == 0:\n",
    "            return False #for non_prime_numbers\n",
    "    return True # for prime numbers \n",
    "            \n",
    "        \n",
    "    "
   ]
  },
  {
   "cell_type": "code",
   "execution_count": 44,
   "id": "2ab74e94",
   "metadata": {},
   "outputs": [],
   "source": [
    "#checking number prime or not  form 1 to 200 numbers getting the numbers we can use lsit comprehension\n",
    "prime_nums_list = [check_prime_num for check_prime_num in range(1,201) if checking_prime(check_prime_num)]\n",
    "    "
   ]
  },
  {
   "cell_type": "code",
   "execution_count": 47,
   "id": "9b2d1929",
   "metadata": {},
   "outputs": [
    {
     "name": "stdout",
     "output_type": "stream",
     "text": [
      "[2, 3, 5, 7, 11, 13, 17, 19, 23, 29, 31, 37, 41, 43, 47, 53, 59, 61, 67, 71, 73, 79, 83, 89, 97, 101, 103, 107, 109, 113, 127, 131, 137, 139, 149, 151, 157, 163, 167, 173, 179, 181, 191, 193, 197, 199]"
     ]
    }
   ],
   "source": [
    "print(prime_nums_list,end= \"\")"
   ]
  },
  {
   "cell_type": "markdown",
   "id": "278daf54",
   "metadata": {},
   "source": [
    "#### 5.Create an iterator class in Python that generates the Fibonacci sequence up to a specified number of  terms\n"
   ]
  },
  {
   "cell_type": "code",
   "execution_count": 57,
   "id": "fc549583",
   "metadata": {},
   "outputs": [],
   "source": [
    "#sample_loop \n",
    "def Fibonacci_numbers(n):\n",
    "    fibno = [0,1]\n",
    "    while len(fibno)<n:\n",
    "        fibno.append(fibno[-1]+fibno[-2])\n",
    "    return fibno\n",
    "    "
   ]
  },
  {
   "cell_type": "code",
   "execution_count": 58,
   "id": "036e677d",
   "metadata": {},
   "outputs": [
    {
     "data": {
      "text/plain": [
       "[0, 1, 1, 2]"
      ]
     },
     "execution_count": 58,
     "metadata": {},
     "output_type": "execute_result"
    }
   ],
   "source": [
    "Fibonacci_numbers(4)"
   ]
  },
  {
   "cell_type": "markdown",
   "id": "daf2b577",
   "metadata": {},
   "source": [
    "#### 6.Write a generator function in Python that yields the powers of 2 up to a given exponent."
   ]
  },
  {
   "cell_type": "code",
   "execution_count": 92,
   "id": "70ea3cc7",
   "metadata": {},
   "outputs": [],
   "source": [
    "def power_of_2(exponent_number):\n",
    "    for i in range(exponent_number + 1):\n",
    "        yield 2 ** i # display one by one "
   ]
  },
  {
   "cell_type": "code",
   "execution_count": 93,
   "id": "15d1e103",
   "metadata": {},
   "outputs": [],
   "source": [
    "gen = power_of_2(4) #here only 4 -->0,1,2,3,4\n"
   ]
  },
  {
   "cell_type": "code",
   "execution_count": 94,
   "id": "320f7f22",
   "metadata": {
    "collapsed": true
   },
   "outputs": [
    {
     "name": "stdout",
     "output_type": "stream",
     "text": [
      "1\n",
      "2\n",
      "4\n",
      "8\n",
      "16\n"
     ]
    },
    {
     "ename": "StopIteration",
     "evalue": "",
     "output_type": "error",
     "traceback": [
      "\u001b[1;31m---------------------------------------------------------------------------\u001b[0m",
      "\u001b[1;31mStopIteration\u001b[0m                             Traceback (most recent call last)",
      "Cell \u001b[1;32mIn[94], line 2\u001b[0m\n\u001b[0;32m      1\u001b[0m \u001b[38;5;28;01mfor\u001b[39;00m i \u001b[38;5;129;01min\u001b[39;00m \u001b[38;5;28mrange\u001b[39m(\u001b[38;5;241m6\u001b[39m):\n\u001b[1;32m----> 2\u001b[0m     \u001b[38;5;28mprint\u001b[39m(\u001b[38;5;28mnext\u001b[39m(gen))\n",
      "\u001b[1;31mStopIteration\u001b[0m: "
     ]
    }
   ],
   "source": [
    "for i in range(6):\n",
    "    print(next(gen)) # 5th time get stopiteration"
   ]
  },
  {
   "cell_type": "markdown",
   "id": "71b46f61",
   "metadata": {},
   "source": [
    "#### 7.Implement a generator function that reads a file line by line and yields each line as a string."
   ]
  },
  {
   "cell_type": "code",
   "execution_count": null,
   "id": "d8365d72",
   "metadata": {},
   "outputs": [],
   "source": [
    "#file handling concepts not having in functions module itr will be cover in next module( file handling )"
   ]
  },
  {
   "cell_type": "markdown",
   "id": "f4c6e91b",
   "metadata": {},
   "source": [
    "#### 8.Use a lambda function in Python to sort a list of tuples based on the second element of each tuple."
   ]
  },
  {
   "cell_type": "code",
   "execution_count": 115,
   "id": "7506e9fa",
   "metadata": {},
   "outputs": [],
   "source": [
    "list_tuples = [(4,2),(4,98),(9,8),(9,1)]\n",
    "\n",
    "#second_elements = list(map(lambda x: x[1],list_tuples))\n",
    "\n",
    "sorted_tuples = sorted(list_tuples,key = lambda x: x[1]) # like dict we need to mentioned the name as key only\n",
    "#based on key it wil be sorted  here it the second element"
   ]
  },
  {
   "cell_type": "code",
   "execution_count": 116,
   "id": "cc7e6f15",
   "metadata": {},
   "outputs": [
    {
     "data": {
      "text/plain": [
       "[(9, 1), (4, 2), (9, 8), (4, 98)]"
      ]
     },
     "execution_count": 116,
     "metadata": {},
     "output_type": "execute_result"
    }
   ],
   "source": [
    "sorted_tuples"
   ]
  },
  {
   "cell_type": "markdown",
   "id": "ddf10a7d",
   "metadata": {},
   "source": [
    "#### 9.Write a Python program that uses map() to convert a list of temperatures from Celsius to Fahrenheit"
   ]
  },
  {
   "cell_type": "code",
   "execution_count": 118,
   "id": "c8ef38cc",
   "metadata": {},
   "outputs": [
    {
     "name": "stdout",
     "output_type": "stream",
     "text": [
      "[32.0, 59.0, 68.0, 86.0, 113.0, 122.0, 194.0, 176.0, 212.0]\n"
     ]
    }
   ],
   "source": [
    "#map contains function ,iterable(like list touple,sets)\n",
    "\n",
    "def celsius_to_fahrenheit(celsius_value):\n",
    "    return (celsius_value * 9/5) + 32\n",
    "\n",
    "# List of temperatures \n",
    "celsius_temperatures = [0,15,20,30,45,50,90,80,100]\n",
    "\n",
    "# Use map() to apply the conversion to each temperature\n",
    "fahrenheit_temperatures = list(map(celsius_to_fahrenheit, celsius_temperatures))\n",
    "\n",
    "# Print the converted temperatures\n",
    "print(fahrenheit_temperatures)\n"
   ]
  },
  {
   "cell_type": "markdown",
   "id": "f737a002",
   "metadata": {},
   "source": [
    "#### 10.Create a Python program that uses `filter()` to remove all the vowels from a given string."
   ]
  },
  {
   "cell_type": "code",
   "execution_count": 124,
   "id": "64d0e886",
   "metadata": {
    "collapsed": true
   },
   "outputs": [
    {
     "name": "stdout",
     "output_type": "stream",
     "text": [
      "enter the sentencehello sunil! where are you \n",
      "hll snl! whr r y \n"
     ]
    }
   ],
   "source": [
    "vowel_str= 'aeiou'\n",
    "def checking_not_vowel(char):\n",
    "    return char.lower() not in vowel_str\n",
    "\n",
    "# Given string\n",
    "input_string = input(\"enter the sentence\")\n",
    "\n",
    "# Use filter() to remove vowels from the string and join indivial char to string using \".\"join\n",
    "#filter also use (function ,iteratable) based on condition it will filter\n",
    "filtered_string = ''.join(filter(checking_not_vowel, input_string))\n",
    "\n",
    "# Print the result\n",
    "print(filtered_string)"
   ]
  },
  {
   "cell_type": "markdown",
   "id": "73b0b235",
   "metadata": {},
   "source": [
    "#### 11.imagine an accounting routine used in a book shop. It works on a list with sublists, which look like this:"
   ]
  },
  {
   "cell_type": "markdown",
   "id": "47614190",
   "metadata": {},
   "source": [
    "Write a Python program, which returns a list with 2-tuples. Each tuple consists of the order number and the \n",
    "product of the price per item and the quantity. The product should be increased by 10,- € if the value of the \n",
    "order is smaller than 100,00 €."
   ]
  },
  {
   "cell_type": "code",
   "execution_count": 139,
   "id": "730cf793",
   "metadata": {},
   "outputs": [],
   "source": [
    "#list of orders contains order number of product,the product of the price,product quantity\n",
    "list_orders=[(1234, 1001, 10),(5678, 900, 9),(9123, 800, 7),(4567, 1003, 12)]\n",
    "\n"
   ]
  },
  {
   "cell_type": "code",
   "execution_count": 138,
   "id": "046f0fbf",
   "metadata": {},
   "outputs": [
    {
     "name": "stdout",
     "output_type": "stream",
     "text": [
      "1234\n",
      "5678\n",
      "9123\n",
      "4567\n"
     ]
    }
   ],
   "source": [
    "for i in list_orders:\n",
    "    print(i[0])"
   ]
  },
  {
   "cell_type": "code",
   "execution_count": 131,
   "id": "819ce089",
   "metadata": {},
   "outputs": [
    {
     "name": "stdout",
     "output_type": "stream",
     "text": [
      "[(1234, 10010), (5678, 8110), (9123, 5610), (4567, 12036)]\n"
     ]
    }
   ],
   "source": [
    "#orders[0] = [1234,5678,9123,4567]\n",
    "#orders[1] = [1001,900,800,1003]\n",
    "#orders[2] = [10,9,7,12]\n",
    "\n",
    "# Using map and lambda \n",
    "result = list(map(lambda orders: (orders[0] , orders[1] * orders[2] + 10 if orders[1] * orders[2] < 10000 else orders[1] * orders[2]), list_orders))\n",
    "\n",
    "# Print the result\n",
    "print(result)"
   ]
  },
  {
   "cell_type": "code",
   "execution_count": 125,
   "id": "fbfedc37",
   "metadata": {},
   "outputs": [],
   "source": []
  },
  {
   "cell_type": "code",
   "execution_count": null,
   "id": "76b76699",
   "metadata": {},
   "outputs": [],
   "source": []
  },
  {
   "cell_type": "code",
   "execution_count": null,
   "id": "d310e827",
   "metadata": {},
   "outputs": [],
   "source": []
  },
  {
   "cell_type": "code",
   "execution_count": null,
   "id": "8f600f20",
   "metadata": {},
   "outputs": [],
   "source": []
  },
  {
   "cell_type": "code",
   "execution_count": null,
   "id": "a9b7e321",
   "metadata": {},
   "outputs": [],
   "source": []
  },
  {
   "cell_type": "code",
   "execution_count": null,
   "id": "0e02929c",
   "metadata": {},
   "outputs": [],
   "source": []
  },
  {
   "cell_type": "code",
   "execution_count": null,
   "id": "afe36b38",
   "metadata": {},
   "outputs": [],
   "source": []
  },
  {
   "cell_type": "code",
   "execution_count": null,
   "id": "fd1db336",
   "metadata": {},
   "outputs": [],
   "source": []
  },
  {
   "cell_type": "code",
   "execution_count": null,
   "id": "bbdeed01",
   "metadata": {},
   "outputs": [],
   "source": []
  },
  {
   "cell_type": "code",
   "execution_count": null,
   "id": "bd047072",
   "metadata": {},
   "outputs": [],
   "source": []
  },
  {
   "cell_type": "code",
   "execution_count": null,
   "id": "91516271",
   "metadata": {},
   "outputs": [],
   "source": []
  },
  {
   "cell_type": "code",
   "execution_count": null,
   "id": "50420eef",
   "metadata": {},
   "outputs": [],
   "source": []
  },
  {
   "cell_type": "code",
   "execution_count": null,
   "id": "27c1498a",
   "metadata": {},
   "outputs": [],
   "source": []
  },
  {
   "cell_type": "code",
   "execution_count": null,
   "id": "b011ad05",
   "metadata": {},
   "outputs": [],
   "source": []
  },
  {
   "cell_type": "code",
   "execution_count": null,
   "id": "f4f9983e",
   "metadata": {},
   "outputs": [],
   "source": []
  },
  {
   "cell_type": "code",
   "execution_count": null,
   "id": "8b9a6282",
   "metadata": {},
   "outputs": [],
   "source": []
  },
  {
   "cell_type": "code",
   "execution_count": null,
   "id": "ab074b0f",
   "metadata": {},
   "outputs": [],
   "source": []
  },
  {
   "cell_type": "code",
   "execution_count": null,
   "id": "0411f2ab",
   "metadata": {},
   "outputs": [],
   "source": []
  },
  {
   "cell_type": "code",
   "execution_count": null,
   "id": "4ed9dfe4",
   "metadata": {},
   "outputs": [],
   "source": []
  },
  {
   "cell_type": "code",
   "execution_count": null,
   "id": "a019ef87",
   "metadata": {},
   "outputs": [],
   "source": []
  },
  {
   "cell_type": "code",
   "execution_count": null,
   "id": "b0071a8c",
   "metadata": {},
   "outputs": [],
   "source": []
  },
  {
   "cell_type": "code",
   "execution_count": null,
   "id": "d6f77907",
   "metadata": {},
   "outputs": [],
   "source": []
  },
  {
   "cell_type": "code",
   "execution_count": null,
   "id": "53d2caf3",
   "metadata": {},
   "outputs": [],
   "source": []
  },
  {
   "cell_type": "code",
   "execution_count": null,
   "id": "64874a64",
   "metadata": {},
   "outputs": [],
   "source": []
  },
  {
   "cell_type": "code",
   "execution_count": null,
   "id": "d8e03b0c",
   "metadata": {},
   "outputs": [],
   "source": []
  },
  {
   "cell_type": "code",
   "execution_count": null,
   "id": "5f75c314",
   "metadata": {},
   "outputs": [],
   "source": []
  },
  {
   "cell_type": "code",
   "execution_count": null,
   "id": "a775075a",
   "metadata": {},
   "outputs": [],
   "source": []
  },
  {
   "cell_type": "code",
   "execution_count": null,
   "id": "d55b1374",
   "metadata": {},
   "outputs": [],
   "source": []
  },
  {
   "cell_type": "code",
   "execution_count": null,
   "id": "1dc10767",
   "metadata": {},
   "outputs": [],
   "source": []
  },
  {
   "cell_type": "code",
   "execution_count": null,
   "id": "6356d463",
   "metadata": {},
   "outputs": [],
   "source": []
  },
  {
   "cell_type": "code",
   "execution_count": null,
   "id": "4e824f03",
   "metadata": {},
   "outputs": [],
   "source": []
  },
  {
   "cell_type": "code",
   "execution_count": null,
   "id": "63c0ba59",
   "metadata": {},
   "outputs": [],
   "source": []
  },
  {
   "cell_type": "code",
   "execution_count": null,
   "id": "04fcfc95",
   "metadata": {},
   "outputs": [],
   "source": []
  },
  {
   "cell_type": "code",
   "execution_count": null,
   "id": "969c18b8",
   "metadata": {},
   "outputs": [],
   "source": []
  },
  {
   "cell_type": "code",
   "execution_count": null,
   "id": "cba30a98",
   "metadata": {},
   "outputs": [],
   "source": []
  },
  {
   "cell_type": "code",
   "execution_count": null,
   "id": "e61e14a2",
   "metadata": {},
   "outputs": [],
   "source": []
  },
  {
   "cell_type": "code",
   "execution_count": null,
   "id": "ebfdff3b",
   "metadata": {},
   "outputs": [],
   "source": []
  },
  {
   "cell_type": "code",
   "execution_count": null,
   "id": "5a3bab9a",
   "metadata": {},
   "outputs": [],
   "source": []
  },
  {
   "cell_type": "code",
   "execution_count": null,
   "id": "1638323d",
   "metadata": {},
   "outputs": [],
   "source": []
  },
  {
   "cell_type": "code",
   "execution_count": null,
   "id": "0ca61122",
   "metadata": {},
   "outputs": [],
   "source": []
  },
  {
   "cell_type": "code",
   "execution_count": null,
   "id": "b7915e2e",
   "metadata": {},
   "outputs": [],
   "source": []
  },
  {
   "cell_type": "code",
   "execution_count": null,
   "id": "cbca7fb3",
   "metadata": {},
   "outputs": [],
   "source": []
  },
  {
   "cell_type": "code",
   "execution_count": null,
   "id": "59c9f54c",
   "metadata": {},
   "outputs": [],
   "source": []
  },
  {
   "cell_type": "code",
   "execution_count": null,
   "id": "12ede891",
   "metadata": {},
   "outputs": [],
   "source": []
  },
  {
   "cell_type": "code",
   "execution_count": null,
   "id": "a193ec5c",
   "metadata": {},
   "outputs": [],
   "source": []
  },
  {
   "cell_type": "code",
   "execution_count": null,
   "id": "5c4b2782",
   "metadata": {},
   "outputs": [],
   "source": []
  },
  {
   "cell_type": "code",
   "execution_count": null,
   "id": "e3d335bf",
   "metadata": {},
   "outputs": [],
   "source": []
  },
  {
   "cell_type": "code",
   "execution_count": null,
   "id": "abc02108",
   "metadata": {},
   "outputs": [],
   "source": []
  },
  {
   "cell_type": "code",
   "execution_count": null,
   "id": "2432714e",
   "metadata": {},
   "outputs": [],
   "source": []
  },
  {
   "cell_type": "code",
   "execution_count": null,
   "id": "e2870b6b",
   "metadata": {},
   "outputs": [],
   "source": []
  },
  {
   "cell_type": "code",
   "execution_count": null,
   "id": "ebe6d8c6",
   "metadata": {},
   "outputs": [],
   "source": []
  },
  {
   "cell_type": "code",
   "execution_count": null,
   "id": "9ddff428",
   "metadata": {},
   "outputs": [],
   "source": []
  },
  {
   "cell_type": "code",
   "execution_count": null,
   "id": "e99e1d78",
   "metadata": {},
   "outputs": [],
   "source": []
  },
  {
   "cell_type": "code",
   "execution_count": null,
   "id": "547db810",
   "metadata": {},
   "outputs": [],
   "source": []
  },
  {
   "cell_type": "code",
   "execution_count": null,
   "id": "21d2ad47",
   "metadata": {},
   "outputs": [],
   "source": []
  },
  {
   "cell_type": "code",
   "execution_count": null,
   "id": "ce71a1c4",
   "metadata": {},
   "outputs": [],
   "source": []
  },
  {
   "cell_type": "code",
   "execution_count": null,
   "id": "a1d04063",
   "metadata": {},
   "outputs": [],
   "source": []
  },
  {
   "cell_type": "code",
   "execution_count": null,
   "id": "2da1e3e6",
   "metadata": {},
   "outputs": [],
   "source": []
  },
  {
   "cell_type": "code",
   "execution_count": null,
   "id": "ce8dae0a",
   "metadata": {},
   "outputs": [],
   "source": []
  },
  {
   "cell_type": "code",
   "execution_count": null,
   "id": "c9c7a5a3",
   "metadata": {},
   "outputs": [],
   "source": []
  },
  {
   "cell_type": "code",
   "execution_count": null,
   "id": "ab56bbb8",
   "metadata": {},
   "outputs": [],
   "source": []
  },
  {
   "cell_type": "code",
   "execution_count": null,
   "id": "2e2ef4aa",
   "metadata": {},
   "outputs": [],
   "source": []
  },
  {
   "cell_type": "code",
   "execution_count": null,
   "id": "125bc568",
   "metadata": {},
   "outputs": [],
   "source": []
  },
  {
   "cell_type": "code",
   "execution_count": null,
   "id": "ee27b95f",
   "metadata": {},
   "outputs": [],
   "source": []
  },
  {
   "cell_type": "code",
   "execution_count": null,
   "id": "3b4b2521",
   "metadata": {},
   "outputs": [],
   "source": []
  },
  {
   "cell_type": "code",
   "execution_count": null,
   "id": "740dd1ca",
   "metadata": {},
   "outputs": [],
   "source": []
  },
  {
   "cell_type": "code",
   "execution_count": null,
   "id": "c6bc384f",
   "metadata": {},
   "outputs": [],
   "source": []
  },
  {
   "cell_type": "code",
   "execution_count": null,
   "id": "37dad9be",
   "metadata": {},
   "outputs": [],
   "source": []
  },
  {
   "cell_type": "code",
   "execution_count": null,
   "id": "f12f8e36",
   "metadata": {},
   "outputs": [],
   "source": []
  },
  {
   "cell_type": "code",
   "execution_count": null,
   "id": "a2a6b2c5",
   "metadata": {},
   "outputs": [],
   "source": []
  },
  {
   "cell_type": "code",
   "execution_count": null,
   "id": "d7dc06ad",
   "metadata": {},
   "outputs": [],
   "source": []
  },
  {
   "cell_type": "code",
   "execution_count": null,
   "id": "dadcec7a",
   "metadata": {},
   "outputs": [],
   "source": []
  }
 ],
 "metadata": {
  "kernelspec": {
   "display_name": "Python 3 (ipykernel)",
   "language": "python",
   "name": "python3"
  },
  "language_info": {
   "codemirror_mode": {
    "name": "ipython",
    "version": 3
   },
   "file_extension": ".py",
   "mimetype": "text/x-python",
   "name": "python",
   "nbconvert_exporter": "python",
   "pygments_lexer": "ipython3",
   "version": "3.11.5"
  }
 },
 "nbformat": 4,
 "nbformat_minor": 5
}
