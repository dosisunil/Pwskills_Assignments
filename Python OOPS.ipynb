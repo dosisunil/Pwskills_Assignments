{
 "cells": [
  {
   "cell_type": "markdown",
   "id": "34900af7",
   "metadata": {},
   "source": [
    "#### 1.What are the five key concepts of Object-Oriented Programming (OOP)?"
   ]
  },
  {
   "cell_type": "markdown",
   "id": "9ed739b1",
   "metadata": {},
   "source": [
    "in this module we learn 4 concepts :\n",
    "1.Inheritance\n",
    "2.Polymorphism\n",
    "3.Abstraction\n",
    "4.Encapsulation\n",
    "    "
   ]
  },
  {
   "cell_type": "markdown",
   "id": "14f39393",
   "metadata": {},
   "source": [
    "#### 2.Write a Python class for a `Car` with attributes for `make`, `model`, and `year`. Include a method to display the car's info "
   ]
  },
  {
   "cell_type": "code",
   "execution_count": 8,
   "id": "166254b3",
   "metadata": {},
   "outputs": [],
   "source": [
    "class Car:\n",
    "    def __init__(self, make, model, year):\n",
    "        self.make = make\n",
    "        self.model = model\n",
    "        self.year = year\n",
    "    \n",
    "    def display_information(self):\n",
    "        print(f\"Car Information: {self.year} {self.make} {self.model}\")\n",
    "\n"
   ]
  },
  {
   "cell_type": "code",
   "execution_count": 4,
   "id": "3d0955dd",
   "metadata": {},
   "outputs": [],
   "source": [
    "car1 = Car(\"BENZ\", \"series_1\", 1987)\n"
   ]
  },
  {
   "cell_type": "code",
   "execution_count": 5,
   "id": "44cd137d",
   "metadata": {},
   "outputs": [],
   "source": [
    "car2 = Car(\"BNW\", \"Series_1\", 1985)"
   ]
  },
  {
   "cell_type": "code",
   "execution_count": 6,
   "id": "fc4d26af",
   "metadata": {
    "collapsed": true
   },
   "outputs": [
    {
     "name": "stdout",
     "output_type": "stream",
     "text": [
      "Car Info: 1987 BENZ series_1\n"
     ]
    }
   ],
   "source": [
    "car1.display_information()"
   ]
  },
  {
   "cell_type": "code",
   "execution_count": 7,
   "id": "e5f0731d",
   "metadata": {
    "collapsed": true
   },
   "outputs": [
    {
     "name": "stdout",
     "output_type": "stream",
     "text": [
      "Car Info: 1985 BNW Series_1\n"
     ]
    }
   ],
   "source": [
    "car2.display_information()"
   ]
  },
  {
   "cell_type": "markdown",
   "id": "f5cd1479",
   "metadata": {},
   "source": [
    "#### 3.Explain the difference between instance methods and class methods. Provide an example of each."
   ]
  },
  {
   "cell_type": "markdown",
   "id": "86488e77",
   "metadata": {},
   "source": [
    "1.Instance Methods:Instance methods are functions defined inside a class that operate on an instance of the class (i.e., an object)\n",
    "2.Class Methods:Class methods are functions that are bound to the class itself, not an instance."
   ]
  },
  {
   "cell_type": "code",
   "execution_count": 9,
   "id": "c2b480df",
   "metadata": {},
   "outputs": [],
   "source": [
    "class Car:\n",
    "    def __init__(self, make, model, year):\n",
    "        self.make = make\n",
    "        self.model = model\n",
    "        self.year = year\n",
    "    \n",
    "    def display_information(self):\n",
    "        print(f\"Car Information: {self.year} {self.make} {self.model}\")\n"
   ]
  },
  {
   "cell_type": "code",
   "execution_count": 11,
   "id": "bb50cc2c",
   "metadata": {},
   "outputs": [
    {
     "name": "stdout",
     "output_type": "stream",
     "text": [
      "Car Information: 1987 BENZ series_1\n"
     ]
    }
   ],
   "source": [
    "car1 = Car(\"BENZ\", \"series_1\", 1987)\n",
    "car1.display_information() # calling instance method"
   ]
  },
  {
   "cell_type": "code",
   "execution_count": 12,
   "id": "8353901e",
   "metadata": {},
   "outputs": [
    {
     "name": "stdout",
     "output_type": "stream",
     "text": [
      "Total cars created: 2\n",
      "Total cars created: 2\n"
     ]
    }
   ],
   "source": [
    "#class method \n",
    "class Car:\n",
    "    # Class-level attribute\n",
    "    total_cars = 0\n",
    "\n",
    "    def __init__(self, make, model, year):\n",
    "        self.make = make\n",
    "        self.model = model\n",
    "        self.year = year\n",
    "        Car.total_cars += 1  # Increment class-level attribute\n",
    "\n",
    "    @classmethod #using class decorators \n",
    "    def display_total_cars(cls):\n",
    "        # Class method to display the total number of cars\n",
    "        print(f\"Total cars created: {cls.total_cars}\")\n",
    "\n",
    "# Create instances of the class\n",
    "car1 = Car(\"Toyota\", \"Corolla\", 2020)\n",
    "car2 = Car(\"Honda\", \"Civic\", 2022)\n",
    "\n",
    "# Calling the class method\n",
    "Car.display_total_cars()  # Calling the class method from the class itself\n",
    "car1.display_total_cars()  # Calling the class method from an instance"
   ]
  },
  {
   "cell_type": "markdown",
   "id": "b4368f81",
   "metadata": {},
   "source": [
    "#### 4.How does Python implement method overloading? Give an example."
   ]
  },
  {
   "cell_type": "code",
   "execution_count": null,
   "id": "8710e21e",
   "metadata": {},
   "outputs": [],
   "source": [
    "#Python: No direct support. Method overloading is typically simulated using default arguments\n",
    "#for variable length arguments *args/**kwargs compare to other lang"
   ]
  },
  {
   "cell_type": "code",
   "execution_count": 15,
   "id": "540cf055",
   "metadata": {},
   "outputs": [],
   "source": [
    "class Student:\n",
    "    def Student_Details(self):\n",
    "        print(\"Get the student details\")\n",
    "    def Student_Details(self,college_name = \"\"):\n",
    "        print(\"Get the student details and college details\",college_name)\n",
    "    def Student_Details(self,college_name=\"\",speclization=\"\"):\n",
    "        print(\"Get the student details and college details and speclization is \",college_name , speclization)"
   ]
  },
  {
   "cell_type": "code",
   "execution_count": 17,
   "id": "d2d6ed09",
   "metadata": {},
   "outputs": [],
   "source": [
    "Sample_student_info = Student()"
   ]
  },
  {
   "cell_type": "code",
   "execution_count": 18,
   "id": "9e5d1819",
   "metadata": {},
   "outputs": [
    {
     "name": "stdout",
     "output_type": "stream",
     "text": [
      "Get the student details and college details and speclization is   \n"
     ]
    }
   ],
   "source": [
    "#here same method is used but it will excute only last one print statement\n",
    "Sample_student_info.Student_Details()"
   ]
  },
  {
   "cell_type": "code",
   "execution_count": 19,
   "id": "6944bd22",
   "metadata": {
    "collapsed": true
   },
   "outputs": [
    {
     "name": "stdout",
     "output_type": "stream",
     "text": [
      "Get the student details and college details and speclization is  JNTU ECE\n"
     ]
    }
   ],
   "source": [
    "Sample_student_info.Student_Details(\"JNTU\",\"ECE\")"
   ]
  },
  {
   "cell_type": "markdown",
   "id": "9d3e0691",
   "metadata": {},
   "source": [
    "#### 5.What are the three types of access modifiers in Python? How are they denoted"
   ]
  },
  {
   "cell_type": "markdown",
   "id": "bd8317f1",
   "metadata": {},
   "source": [
    "1.public\n",
    "2.private\n",
    "3.protected"
   ]
  },
  {
   "cell_type": "code",
   "execution_count": 21,
   "id": "604a1398",
   "metadata": {},
   "outputs": [],
   "source": [
    "#example how they are denoted\n",
    "class Car:\n",
    "    def __init__(self, make, model, year):\n",
    "        self.make = make\n",
    "        self.__model = model #here model data it is an private\n",
    "        self._year = year    #here year data it is an protected \n",
    "    \n",
    "    def display_information(self):\n",
    "        print(f\"Car Information: {self._year} {self.make} {self.__model}\")"
   ]
  },
  {
   "cell_type": "code",
   "execution_count": 22,
   "id": "84ab3ca5",
   "metadata": {},
   "outputs": [],
   "source": [
    "car1 = Car(\"BENZ\", \"series_1\", 1987)"
   ]
  },
  {
   "cell_type": "code",
   "execution_count": 23,
   "id": "30175358",
   "metadata": {
    "collapsed": true
   },
   "outputs": [
    {
     "name": "stdout",
     "output_type": "stream",
     "text": [
      "Car Information: 1987 BENZ series_1\n"
     ]
    }
   ],
   "source": [
    "car1.display_information()"
   ]
  },
  {
   "cell_type": "markdown",
   "id": "fad59e9c",
   "metadata": {},
   "source": [
    "#### 6.Describe the five types of inheritance in Python. Provide a simple example of multiple inheritance."
   ]
  },
  {
   "cell_type": "code",
   "execution_count": null,
   "id": "6804ac16",
   "metadata": {},
   "outputs": [],
   "source": [
    "1.Single Inheritance\n",
    "2.Multiple Inheritance\n",
    "3.Multilevel Inheritance\n",
    "4.Hierarchical Inheritance\n",
    "5.Hybrid Inheritance"
   ]
  },
  {
   "cell_type": "code",
   "execution_count": 24,
   "id": "f89514af",
   "metadata": {},
   "outputs": [],
   "source": [
    "#example of multiple inheritance using MRO (method resolution order)\n",
    "# same method used here both class mentioned below:        \n",
    "class Highvarient_vehicle:\n",
    "    def Sports_vehicle(self):\n",
    "        print(\"High_end vehicle\")\n",
    "        \n",
    "class Sportsvarient_vehicle:\n",
    "    def Sports_vehicle(self):\n",
    "        print(\"Sports_vehicle\")   \n",
    "#here only first class of method will be called         \n",
    "class Sports_High_varient(Highvarient_vehicle,Sportsvarient_vehicle):\n",
    "    def Sports_vehicle_high(self):\n",
    "        print(\"Sports_High End_vehicle\")   "
   ]
  },
  {
   "cell_type": "code",
   "execution_count": 25,
   "id": "0c650951",
   "metadata": {},
   "outputs": [],
   "source": [
    "car1 = Sports_High_varient()"
   ]
  },
  {
   "cell_type": "code",
   "execution_count": 26,
   "id": "7322e38b",
   "metadata": {
    "collapsed": true
   },
   "outputs": [
    {
     "name": "stdout",
     "output_type": "stream",
     "text": [
      "High_end vehicle\n"
     ]
    }
   ],
   "source": [
    "car1.Sports_vehicle()"
   ]
  },
  {
   "cell_type": "markdown",
   "id": "f898cb71",
   "metadata": {},
   "source": [
    "#### 7.What is the Method Resolution Order (MRO) in Python? How can you retrieve it programmatically"
   ]
  },
  {
   "cell_type": "code",
   "execution_count": null,
   "id": "273a4158",
   "metadata": {},
   "outputs": [],
   "source": [
    "#diamond problem problems when a class inherits from 2 or more than class\n",
    "#to remove this python use method order MRO  algorithm it will  use \n",
    "#meaning that class inherited by the first class that menthod will be inherited"
   ]
  },
  {
   "cell_type": "code",
   "execution_count": 27,
   "id": "ba1c59a7",
   "metadata": {},
   "outputs": [],
   "source": [
    "#example of multiple inheritance using MRO (method resolution order)\n",
    "# same method used here both class mentioned below:        \n",
    "class Highvarient_vehicle:\n",
    "    def Sports_vehicle(self):\n",
    "        print(\"High_end vehicle\")\n",
    "        \n",
    "class Sportsvarient_vehicle:\n",
    "    def Sports_vehicle(self):\n",
    "        print(\"Sports_vehicle\")   \n",
    "#here only first class of method will be called         \n",
    "class Sports_High_varient(Sportsvarient_vehicle,Highvarient_vehicle):\n",
    "    def Sports_vehicle_high(self):\n",
    "        print(\"Sports_High End_vehicle\")"
   ]
  },
  {
   "cell_type": "code",
   "execution_count": 28,
   "id": "0f92e75e",
   "metadata": {},
   "outputs": [],
   "source": [
    "car2 = Sports_High_varient()"
   ]
  },
  {
   "cell_type": "code",
   "execution_count": 29,
   "id": "6060afcc",
   "metadata": {},
   "outputs": [
    {
     "name": "stdout",
     "output_type": "stream",
     "text": [
      "Sports_vehicle\n"
     ]
    }
   ],
   "source": [
    "car2.Sports_vehicle()"
   ]
  },
  {
   "cell_type": "markdown",
   "id": "1677eb45",
   "metadata": {},
   "source": [
    "#### 8.Create an abstract base class `Shape` with an abstract method `area()`. Then create two subclasses \n",
    "`Circle` and `Rectangle` that implement the `area()` method"
   ]
  },
  {
   "cell_type": "code",
   "execution_count": 32,
   "id": "47fd7fc7",
   "metadata": {},
   "outputs": [],
   "source": [
    "import abc "
   ]
  },
  {
   "cell_type": "code",
   "execution_count": 33,
   "id": "2f6d3200",
   "metadata": {},
   "outputs": [],
   "source": [
    "import abc \n",
    "class shape(abc.ABC) :\n",
    "    @abc.abstractmethod\n",
    "    def Calculate_area(self):\n",
    "        pass"
   ]
  },
  {
   "cell_type": "code",
   "execution_count": 43,
   "id": "1e4f25c2",
   "metadata": {},
   "outputs": [],
   "source": [
    "class circle(shape):\n",
    "    def Calculate_area(self,r):\n",
    "        return (2*3.14*r**2)\n",
    "class rectangle(shape):\n",
    "    def Calculate_area(self,l,b):\n",
    "        return(l*b)"
   ]
  },
  {
   "cell_type": "code",
   "execution_count": 39,
   "id": "61f62fb3",
   "metadata": {},
   "outputs": [],
   "source": [
    "Find_area_circle= circle()\n"
   ]
  },
  {
   "cell_type": "code",
   "execution_count": 40,
   "id": "543d1b83",
   "metadata": {},
   "outputs": [
    {
     "data": {
      "text/plain": [
       "25.12"
      ]
     },
     "execution_count": 40,
     "metadata": {},
     "output_type": "execute_result"
    }
   ],
   "source": [
    "Find_area_circle.Calculate_area(2)"
   ]
  },
  {
   "cell_type": "code",
   "execution_count": 44,
   "id": "6d97c23b",
   "metadata": {},
   "outputs": [],
   "source": [
    "Find_area_rectangle = rectangle()"
   ]
  },
  {
   "cell_type": "code",
   "execution_count": 45,
   "id": "d6780ece",
   "metadata": {},
   "outputs": [
    {
     "data": {
      "text/plain": [
       "1541"
      ]
     },
     "execution_count": 45,
     "metadata": {},
     "output_type": "execute_result"
    }
   ],
   "source": [
    "Find_area_rectangle.Calculate_area(23,67)"
   ]
  },
  {
   "cell_type": "markdown",
   "id": "1a3b4eb7",
   "metadata": {},
   "source": [
    "#### 9.Demonstrate polymorphism by creating a function that can work with different shape objects to calculate and print thier areas\n"
   ]
  },
  {
   "cell_type": "code",
   "execution_count": null,
   "id": "c9edcb4a",
   "metadata": {},
   "outputs": [],
   "source": [
    "#same as code mention above "
   ]
  },
  {
   "cell_type": "markdown",
   "id": "e3180a04",
   "metadata": {},
   "source": [
    "#### 10.Implement encapsulation in a `BankAccount` class with private attributes for `balance` and \n",
    "`account_number`. Include methods for deposit, withdrawal, and balance inquiry."
   ]
  },
  {
   "cell_type": "code",
   "execution_count": 54,
   "id": "86ecef98",
   "metadata": {},
   "outputs": [],
   "source": [
    "class bank:\n",
    "    def __init__(self,balance):\n",
    "        self.__balance = balance\n",
    "    def deposit(self,amount):\n",
    "        self.__balance =self.__balance+amount\n",
    "    def withdraw(self,amount):\n",
    "        if self.__balance >= amount:\n",
    "            self.__balance = self.__balance-amount\n",
    "            return True\n",
    "        else:\n",
    "            return False\n",
    "    def Get_balance_details(self):\n",
    "        return self.__balance"
   ]
  },
  {
   "cell_type": "code",
   "execution_count": 57,
   "id": "995e2b29",
   "metadata": {},
   "outputs": [],
   "source": [
    "cust1 = bank(1500)"
   ]
  },
  {
   "cell_type": "code",
   "execution_count": 58,
   "id": "780ddc14",
   "metadata": {},
   "outputs": [],
   "source": [
    "cust1.deposit(90)"
   ]
  },
  {
   "cell_type": "code",
   "execution_count": 59,
   "id": "facb7838",
   "metadata": {},
   "outputs": [
    {
     "data": {
      "text/plain": [
       "1590"
      ]
     },
     "execution_count": 59,
     "metadata": {},
     "output_type": "execute_result"
    }
   ],
   "source": [
    "cust1.Get_balance_details()"
   ]
  },
  {
   "cell_type": "code",
   "execution_count": 60,
   "id": "18c62367",
   "metadata": {},
   "outputs": [
    {
     "data": {
      "text/plain": [
       "False"
      ]
     },
     "execution_count": 60,
     "metadata": {},
     "output_type": "execute_result"
    }
   ],
   "source": [
    "cust1.withdraw(1600)"
   ]
  },
  {
   "cell_type": "code",
   "execution_count": 61,
   "id": "ffe5a7a3",
   "metadata": {},
   "outputs": [
    {
     "data": {
      "text/plain": [
       "True"
      ]
     },
     "execution_count": 61,
     "metadata": {},
     "output_type": "execute_result"
    }
   ],
   "source": [
    "cust1.withdraw(1500)"
   ]
  },
  {
   "cell_type": "code",
   "execution_count": 62,
   "id": "f44b91ae",
   "metadata": {},
   "outputs": [
    {
     "data": {
      "text/plain": [
       "90"
      ]
     },
     "execution_count": 62,
     "metadata": {},
     "output_type": "execute_result"
    }
   ],
   "source": [
    "cust1.Get_balance_details()"
   ]
  },
  {
   "cell_type": "markdown",
   "id": "26955dba",
   "metadata": {},
   "source": [
    "#### 11.Write a class that overrides the `__str__` and `__add__` magic methods. What will these methods allow \n",
    "you to do"
   ]
  },
  {
   "cell_type": "markdown",
   "id": "8008cb19",
   "metadata": {},
   "source": [
    "1. __str__:\n",
    "    1.Allows you to define a custom string representation for your objects. \n",
    "    This is particularly useful when you want to control how your objects are printed or logged.\n",
    "    2.Without this, the default string representation of an object is something like <__main__.Point object at 0x10abc123>, which is not very informative."
   ]
  },
  {
   "cell_type": "markdown",
   "id": "31775df1",
   "metadata": {},
   "source": [
    "2. __add__:\n",
    "    1.Allows you to customize the behavior of the + operator for your objects. In this case, it lets you add Point objects together in a way that makes sense for the problem you're solving.\n",
    "    2.Without this, the + operator would raise a TypeError when used with two Point objects."
   ]
  },
  {
   "cell_type": "markdown",
   "id": "b0790914",
   "metadata": {},
   "source": [
    "#### 12.Create a decorator that measures and prints the execution time of a function."
   ]
  },
  {
   "cell_type": "code",
   "execution_count": 63,
   "id": "cd6b17c7",
   "metadata": {},
   "outputs": [],
   "source": [
    "import time\n",
    "\n",
    "# Decorator to measure execution time\n",
    "def measure_execution_time(func):\n",
    "    def inside_function(*args, **kwargs):\n",
    "        start_time = time.time()  # Record the start time\n",
    "        result = func(*args, **kwargs)  # Call the original function\n",
    "        end_time = time.time()  # Record the end time\n",
    "        execution_time = end_time - start_time  # Calculate the execution time\n",
    "        print(f\"Execution time of {func.__name__}: {execution_time:.6f} seconds\")\n",
    "        return result\n",
    "    return inside_function\n"
   ]
  },
  {
   "cell_type": "code",
   "execution_count": 64,
   "id": "d192ec05",
   "metadata": {},
   "outputs": [
    {
     "name": "stdout",
     "output_type": "stream",
     "text": [
      "Execution time of example_function: 2.003801 seconds\n"
     ]
    }
   ],
   "source": [
    "@measure_execution_time \n",
    "def example_function():\n",
    "    time.sleep(2)  # Simulate a function that takes time (e.g., 2 seconds)\n",
    "\n",
    "# Call the decorated function\n",
    "example_function()"
   ]
  },
  {
   "cell_type": "markdown",
   "id": "0670514d",
   "metadata": {},
   "source": [
    "#### 13.Explain the concept of the Diamond Problem in multiple inheritance. How does Python resolve it"
   ]
  },
  {
   "cell_type": "code",
   "execution_count": null,
   "id": "5354100d",
   "metadata": {},
   "outputs": [],
   "source": [
    "#same as 7 question "
   ]
  },
  {
   "cell_type": "markdown",
   "id": "6d5dbd69",
   "metadata": {},
   "source": [
    "#### 14.Write a class method that keeps track of the number of instances created from a class"
   ]
  },
  {
   "cell_type": "code",
   "execution_count": 68,
   "id": "b4716142",
   "metadata": {},
   "outputs": [],
   "source": [
    "class MyClass:\n",
    "    # Class variable to keep track of the number of instances\n",
    "    instance_count = 0\n",
    "\n",
    "    def __init__(self):\n",
    "        # Increment the instance count whenever a new instance is created\n",
    "        MyClass.instance_count += 1\n",
    "\n",
    "    @classmethod\n",
    "    def get_instance_count(cls):\n",
    "        # Class method to get the current instance count\n",
    "        return cls.instance_count\n"
   ]
  },
  {
   "cell_type": "code",
   "execution_count": 69,
   "id": "d5289c2e",
   "metadata": {},
   "outputs": [
    {
     "name": "stdout",
     "output_type": "stream",
     "text": [
      "3\n"
     ]
    }
   ],
   "source": [
    "# Creating instances\n",
    "sample1 = MyClass()\n",
    "sample2 = MyClass()\n",
    "sample3 = MyClass()\n",
    "\n",
    "# Getting the number of instances created\n",
    "print(MyClass.get_instance_count())  "
   ]
  },
  {
   "cell_type": "markdown",
   "id": "33ba144b",
   "metadata": {},
   "source": [
    "#### 15.Implement a static method in a class that checks if a given year is a leap year"
   ]
  },
  {
   "cell_type": "code",
   "execution_count": null,
   "id": "906d21da",
   "metadata": {},
   "outputs": [],
   "source": [
    "1.The year is divisible by 4.\n",
    "2.However, if the year is divisible by 100, it must also be divisible by 400 to be a leap year."
   ]
  },
  {
   "cell_type": "code",
   "execution_count": 72,
   "id": "cab8b615",
   "metadata": {},
   "outputs": [],
   "source": [
    "class Check_leap_year:\n",
    "    \n",
    "    @staticmethod\n",
    "    def is_leap_year(year):\n",
    "        # Check if the year is a leap year\n",
    "        if (year % 4 == 0 and year % 100 != 0) or (year % 400 == 0):\n",
    "            return True\n",
    "        else:\n",
    "            return False\n"
   ]
  },
  {
   "cell_type": "code",
   "execution_count": 73,
   "id": "3abeaca1",
   "metadata": {},
   "outputs": [
    {
     "name": "stdout",
     "output_type": "stream",
     "text": [
      "True\n",
      "False\n",
      "True\n"
     ]
    }
   ],
   "source": [
    "# Checking if specific years are leap years\n",
    "print(Check_leap_year.is_leap_year(2024)) \n",
    "print(Check_leap_year.is_leap_year(1900)) \n",
    "print(Check_leap_year.is_leap_year(2000)) "
   ]
  },
  {
   "cell_type": "code",
   "execution_count": null,
   "id": "c4142df2",
   "metadata": {},
   "outputs": [],
   "source": []
  },
  {
   "cell_type": "code",
   "execution_count": null,
   "id": "8c6d6d0c",
   "metadata": {},
   "outputs": [],
   "source": []
  },
  {
   "cell_type": "code",
   "execution_count": null,
   "id": "e63c10d8",
   "metadata": {},
   "outputs": [],
   "source": []
  },
  {
   "cell_type": "code",
   "execution_count": null,
   "id": "f9df9bbf",
   "metadata": {},
   "outputs": [],
   "source": []
  },
  {
   "cell_type": "code",
   "execution_count": null,
   "id": "988b0c71",
   "metadata": {},
   "outputs": [],
   "source": []
  },
  {
   "cell_type": "code",
   "execution_count": null,
   "id": "a57a229b",
   "metadata": {},
   "outputs": [],
   "source": []
  },
  {
   "cell_type": "code",
   "execution_count": null,
   "id": "446a32e5",
   "metadata": {},
   "outputs": [],
   "source": []
  },
  {
   "cell_type": "code",
   "execution_count": null,
   "id": "70c7cf1f",
   "metadata": {},
   "outputs": [],
   "source": []
  },
  {
   "cell_type": "code",
   "execution_count": null,
   "id": "a73c1969",
   "metadata": {},
   "outputs": [],
   "source": []
  },
  {
   "cell_type": "code",
   "execution_count": null,
   "id": "08298ea1",
   "metadata": {},
   "outputs": [],
   "source": []
  },
  {
   "cell_type": "code",
   "execution_count": null,
   "id": "73ddc9a7",
   "metadata": {},
   "outputs": [],
   "source": []
  },
  {
   "cell_type": "code",
   "execution_count": null,
   "id": "210bf2c5",
   "metadata": {},
   "outputs": [],
   "source": []
  },
  {
   "cell_type": "code",
   "execution_count": null,
   "id": "a7550d82",
   "metadata": {},
   "outputs": [],
   "source": []
  },
  {
   "cell_type": "code",
   "execution_count": null,
   "id": "a08e2953",
   "metadata": {},
   "outputs": [],
   "source": []
  },
  {
   "cell_type": "code",
   "execution_count": null,
   "id": "086535c7",
   "metadata": {},
   "outputs": [],
   "source": []
  },
  {
   "cell_type": "code",
   "execution_count": null,
   "id": "232008ce",
   "metadata": {},
   "outputs": [],
   "source": []
  },
  {
   "cell_type": "code",
   "execution_count": null,
   "id": "6765dc41",
   "metadata": {},
   "outputs": [],
   "source": []
  },
  {
   "cell_type": "code",
   "execution_count": null,
   "id": "0ce65741",
   "metadata": {},
   "outputs": [],
   "source": []
  }
 ],
 "metadata": {
  "kernelspec": {
   "display_name": "Python 3 (ipykernel)",
   "language": "python",
   "name": "python3"
  },
  "language_info": {
   "codemirror_mode": {
    "name": "ipython",
    "version": 3
   },
   "file_extension": ".py",
   "mimetype": "text/x-python",
   "name": "python",
   "nbconvert_exporter": "python",
   "pygments_lexer": "ipython3",
   "version": "3.11.5"
  }
 },
 "nbformat": 4,
 "nbformat_minor": 5
}
