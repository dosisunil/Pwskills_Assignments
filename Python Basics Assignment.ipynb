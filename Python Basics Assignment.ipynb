{
 "cells": [
  {
   "cell_type": "markdown",
   "id": "71dbc472",
   "metadata": {},
   "source": [
    "#### 1. Explain the key features of Python that make it a popular choice for programming"
   ]
  },
  {
   "cell_type": "raw",
   "id": "f832bcca",
   "metadata": {},
   "source": [
    "Python offers the tools, flexibility, and support needed to be productive across a wide range of domains.\n",
    "combination of simplicity, readability, vast libraries, cross-platform compatibility"
   ]
  },
  {
   "cell_type": "markdown",
   "id": "69b06ae9",
   "metadata": {},
   "source": [
    "#### 2.Describe the role of predefined keywords in Python and provide examples of how they are used in a program"
   ]
  },
  {
   "cell_type": "raw",
   "id": "86ab0c6e",
   "metadata": {},
   "source": [
    "These keywords are reserved by the language and cannot be used as variable names, function names or identifiers. They define the structure and behavior of Python programs."
   ]
  },
  {
   "cell_type": "code",
   "execution_count": 2,
   "id": "7d7f8057",
   "metadata": {},
   "outputs": [
    {
     "name": "stdout",
     "output_type": "stream",
     "text": [
      "['False', 'None', 'True', 'and', 'as', 'assert', 'async', 'await', 'break', 'class', 'continue', 'def', 'del', 'elif', 'else', 'except', 'finally', 'for', 'from', 'global', 'if', 'import', 'in', 'is', 'lambda', 'nonlocal', 'not', 'or', 'pass', 'raise', 'return', 'try', 'while', 'with', 'yield']\n"
     ]
    }
   ],
   "source": [
    "import keyword\n",
    "print(keyword.kwlist)"
   ]
  },
  {
   "cell_type": "raw",
   "id": "65ecf84d",
   "metadata": {},
   "source": [
    "Control Flow: Keywords\n",
    "like if, else, elif, while, for, and break help control the flow of the program\n",
    "such as making decisions, looping, and breaking out of loops."
   ]
  },
  {
   "cell_type": "raw",
   "id": "cd2f86a7",
   "metadata": {},
   "source": [
    "Data Handling: Keywords\n",
    "like import, from, as, try, except, finally, with, and yield \n",
    "assist in importing libraries, exception handling, and working with context managers or generators."
   ]
  },
  {
   "cell_type": "code",
   "execution_count": 6,
   "id": "9fc22951",
   "metadata": {
    "collapsed": true
   },
   "outputs": [
    {
     "name": "stdout",
     "output_type": "stream",
     "text": [
      "Enter the Sample_textPwskills_lab_portal\n",
      "you are in Pwskills lab portal\n"
     ]
    }
   ],
   "source": [
    "# using Control flow using in sample program \n",
    "\n",
    "Sample_text = input(\"Enter the Sample_text\")\n",
    "\n",
    "if Sample_text == \"Pwskills_portal\":\n",
    "    print(\"you are in Pwskills\")\n",
    "elif Sample_text == \"Pwskills_lab_portal\":\n",
    "    print(\"you are in Pwskills lab portal\")\n",
    "else:\n",
    "    print(\"Please enter valid portal\")\n"
   ]
  },
  {
   "cell_type": "markdown",
   "id": "4b0892e3",
   "metadata": {},
   "source": [
    "#### 3.Compare and contrast mutable and immutable objects in Python with examples"
   ]
  },
  {
   "cell_type": "raw",
   "id": "1563ad78",
   "metadata": {},
   "source": [
    "Mutable objects can be modified after creation(Ex:list)\n",
    "Immutable objects cannot be modified after creation(Ex:str)"
   ]
  },
  {
   "cell_type": "code",
   "execution_count": 7,
   "id": "b82f52d8",
   "metadata": {
    "collapsed": true
   },
   "outputs": [
    {
     "data": {
      "text/plain": [
       "str"
      ]
     },
     "execution_count": 7,
     "metadata": {},
     "output_type": "execute_result"
    }
   ],
   "source": [
    "#Immutable objects\n",
    "sample_text = \"Pwskills\"\n",
    "type(sample_text)"
   ]
  },
  {
   "cell_type": "code",
   "execution_count": 18,
   "id": "17f54f41",
   "metadata": {
    "collapsed": true
   },
   "outputs": [
    {
     "data": {
      "text/plain": [
       "'Pwskills'"
      ]
     },
     "execution_count": 18,
     "metadata": {},
     "output_type": "execute_result"
    }
   ],
   "source": [
    "sample_text"
   ]
  },
  {
   "cell_type": "code",
   "execution_count": 8,
   "id": "e37df609",
   "metadata": {
    "collapsed": true
   },
   "outputs": [
    {
     "data": {
      "text/plain": [
       "'P'"
      ]
     },
     "execution_count": 8,
     "metadata": {},
     "output_type": "execute_result"
    }
   ],
   "source": [
    "#Getting the value using index\n",
    "sample_text[0]"
   ]
  },
  {
   "cell_type": "code",
   "execution_count": 9,
   "id": "ba96476b",
   "metadata": {
    "collapsed": true
   },
   "outputs": [
    {
     "ename": "TypeError",
     "evalue": "'str' object does not support item assignment",
     "output_type": "error",
     "traceback": [
      "\u001b[1;31m---------------------------------------------------------------------------\u001b[0m",
      "\u001b[1;31mTypeError\u001b[0m                                 Traceback (most recent call last)",
      "Cell \u001b[1;32mIn[9], line 2\u001b[0m\n\u001b[0;32m      1\u001b[0m \u001b[38;5;66;03m#trying modify the value \u001b[39;00m\n\u001b[1;32m----> 2\u001b[0m sample_text[\u001b[38;5;241m0\u001b[39m] \u001b[38;5;241m=\u001b[39m \u001b[38;5;124m'\u001b[39m\u001b[38;5;124ms\u001b[39m\u001b[38;5;124m'\u001b[39m\n",
      "\u001b[1;31mTypeError\u001b[0m: 'str' object does not support item assignment"
     ]
    }
   ],
   "source": [
    "#trying modify the value get an typeerror\n",
    "sample_text[0] = 's'"
   ]
  },
  {
   "cell_type": "code",
   "execution_count": 14,
   "id": "b9d3f19a",
   "metadata": {
    "collapsed": true
   },
   "outputs": [
    {
     "data": {
      "text/plain": [
       "list"
      ]
     },
     "execution_count": 14,
     "metadata": {},
     "output_type": "execute_result"
    }
   ],
   "source": [
    "#Immutable objects\n",
    "sample_text_1 = ['p','w','s','k','i','l','l','s']\n",
    "type(sample_text_1)"
   ]
  },
  {
   "cell_type": "code",
   "execution_count": 15,
   "id": "af63222a",
   "metadata": {
    "collapsed": true
   },
   "outputs": [
    {
     "data": {
      "text/plain": [
       "['p', 'w', 's', 'k', 'i', 'l', 'l', 's']"
      ]
     },
     "execution_count": 15,
     "metadata": {},
     "output_type": "execute_result"
    }
   ],
   "source": [
    "sample_text_1"
   ]
  },
  {
   "cell_type": "code",
   "execution_count": 16,
   "id": "f6567575",
   "metadata": {},
   "outputs": [],
   "source": [
    "#trying modify the value with out Error\n",
    "sample_text_1[0] = 's'"
   ]
  },
  {
   "cell_type": "code",
   "execution_count": 17,
   "id": "95f52955",
   "metadata": {
    "collapsed": true
   },
   "outputs": [
    {
     "data": {
      "text/plain": [
       "['s', 'w', 's', 'k', 'i', 'l', 'l', 's']"
      ]
     },
     "execution_count": 17,
     "metadata": {},
     "output_type": "execute_result"
    }
   ],
   "source": [
    "sample_text_1"
   ]
  },
  {
   "cell_type": "markdown",
   "id": "2c97db74",
   "metadata": {},
   "source": [
    "#### 4.Discuss the different types of operators in Python and provide examples of how they are used"
   ]
  },
  {
   "cell_type": "raw",
   "id": "26477637",
   "metadata": {},
   "source": [
    "In Python, operators are special symbols or keywords that perform operations on variables and values. \n",
    "Operators are used to perform operations like arithmetic, comparison, logical, bitwise operations,membership"
   ]
  },
  {
   "cell_type": "code",
   "execution_count": 19,
   "id": "67f2d7ae",
   "metadata": {
    "collapsed": true
   },
   "outputs": [
    {
     "name": "stdout",
     "output_type": "stream",
     "text": [
      "13\n",
      "7\n",
      "30\n",
      "3.3333333333333335\n",
      "3\n",
      "1\n",
      "1000\n"
     ]
    }
   ],
   "source": [
    "# arithmetic\n",
    "\n",
    "a = 10\n",
    "b = 3\n",
    "\n",
    "# Addition\n",
    "print(a + b)  \n",
    "\n",
    "# Subtraction\n",
    "print(a - b) \n",
    "\n",
    "# Multiplication\n",
    "print(a * b)  \n",
    "\n",
    "# Division (float)\n",
    "print(a / b)  \n",
    "\n",
    "# Floor Division (quotient without remainder)\n",
    "print(a // b)  \n",
    "\n",
    "# Modulus (remainder)\n",
    "print(a % b)  \n",
    "\n",
    "# Exponentiation (a raised to the power of b)\n",
    "print(a ** b)  "
   ]
  },
  {
   "cell_type": "code",
   "execution_count": 21,
   "id": "74314b60",
   "metadata": {
    "collapsed": true
   },
   "outputs": [
    {
     "name": "stdout",
     "output_type": "stream",
     "text": [
      "False\n",
      "True\n",
      "True\n",
      "False\n",
      "True\n",
      "False\n"
     ]
    }
   ],
   "source": [
    "# Comparison Operators They return a boolean value (True or False).\n",
    "\n",
    "# Equal to\n",
    "print(a== b)  # Output: False\n",
    "\n",
    "# Not equal to\n",
    "print(a != b)  # Output: True\n",
    "\n",
    "# Greater than\n",
    "print(a > b)   # Output: True\n",
    "\n",
    "# Less than\n",
    "print(a < b)   # Output: False\n",
    "\n",
    "# Greater than or equal\n",
    "print(a >= b)  # Output: True\n",
    "\n",
    "# Less than or equal\n",
    "print(a <= b)  # Output: False\n"
   ]
  },
  {
   "cell_type": "code",
   "execution_count": 22,
   "id": "60e97ba8",
   "metadata": {
    "collapsed": true
   },
   "outputs": [
    {
     "name": "stdout",
     "output_type": "stream",
     "text": [
      "False\n",
      "True\n",
      "False\n"
     ]
    }
   ],
   "source": [
    "# Logical operators are used to combine conditional statements.\n",
    "\n",
    "x = True\n",
    "y = False\n",
    "\n",
    "# Logical AND\n",
    "print(x and y)  # Output: False\n",
    "\n",
    "# Logical OR\n",
    "print(x or y)   # Output: True\n",
    "\n",
    "# Logical NOT\n",
    "print(not x)    # Output: False"
   ]
  },
  {
   "cell_type": "code",
   "execution_count": 23,
   "id": "cc53b8fe",
   "metadata": {
    "collapsed": true
   },
   "outputs": [
    {
     "name": "stdout",
     "output_type": "stream",
     "text": [
      "15\n",
      "12\n",
      "24\n",
      "6.0\n",
      "3.0\n",
      "1.0\n"
     ]
    }
   ],
   "source": [
    "#Assignment operators are used to assign values to variables.\n",
    "\n",
    "x = 10\n",
    "\n",
    "# Add and assign\n",
    "x += 5\n",
    "print(x)  \n",
    "\n",
    "# Subtract and assign\n",
    "x -= 3\n",
    "print(x)  \n",
    "\n",
    "# Multiply and assign\n",
    "x *= 2\n",
    "print(x)  \n",
    "\n",
    "# Divide and assign\n",
    "x /= 4\n",
    "print(x)  \n",
    "\n",
    "# Floor divide and assign\n",
    "x //= 2\n",
    "print(x)  \n",
    "\n",
    "# Modulus and assign\n",
    "x %= 2\n",
    "print(x)  "
   ]
  },
  {
   "cell_type": "code",
   "execution_count": 26,
   "id": "95048382",
   "metadata": {
    "collapsed": true
   },
   "outputs": [
    {
     "name": "stdout",
     "output_type": "stream",
     "text": [
      "1\n",
      "7\n",
      "6\n",
      "-6\n",
      "20\n",
      "2\n"
     ]
    }
   ],
   "source": [
    "#Bitwise operators perform operations on the binary representations of numbers.\n",
    "\n",
    "x = 5  # 0101 in binary\n",
    "y = 3  # 0011 in binary\n",
    "\n",
    "# Bitwise AND (both inputs are 1 then it will be 1)\n",
    "print(x & y)  # Output: 1 (0001 in binary)\n",
    "\n",
    "# Bitwise OR(if any one input is 1 then it will be 1)\n",
    "print(x | y)  # Output: 7 (0111 in binary)\n",
    "\n",
    "# Bitwise XOR(if both inputs are different then it wil be 1)\n",
    "print(x ^ y)  # Output: 6 (0110 in binary)\n",
    "\n",
    "# Bitwise NOT(if n is a positive integer, the result of ~n is -(n + 1)).\n",
    "#0000 0101\n",
    "#1111 1010\n",
    "#-->1111 1010 in two's complement is a negative number\n",
    "#because the most significant bit (the leftmost bit) is 1.\n",
    "#This indicates that the number is negative.\n",
    "# add 1\n",
    "#0000 0110-->6\n",
    "print(~x)     # Output: -6 (Inverts the bits of 5)\n",
    "\n",
    "# Left shift (shifts bits to the left by 2 places or add 2 zero's at right side)0101-> 010100\n",
    "print(x << 2)  # Output: 20 (10100 in binary)\n",
    "\n",
    "# Right shift (shifts bits to the right by 1 place or remove 1 bit at left side)0101-->010\n",
    "print(x >> 1)  # Output: 2 (0010 in binary)"
   ]
  },
  {
   "cell_type": "code",
   "execution_count": 29,
   "id": "6c9614bb",
   "metadata": {
    "collapsed": true
   },
   "outputs": [
    {
     "name": "stdout",
     "output_type": "stream",
     "text": [
      "True\n",
      "True\n",
      "False\n"
     ]
    }
   ],
   "source": [
    "#Membership operators are used to check if a value is found in a sequence (like a list, tuple, or string).\n",
    "my_list = [1, \"2\", \"Pwskills\", 4, 5]\n",
    "\n",
    "# Check if 3 is in the list\n",
    "print(\"Pwskills\" in my_list) \n",
    "\n",
    "# Check if 6 is not in the list\n",
    "print(\"Pwskills_lab\" not in my_list) \n",
    "\n",
    "# Check if 6 is not in the list as 2 is an string\n",
    "print(2 in my_list)  "
   ]
  },
  {
   "cell_type": "markdown",
   "id": "6c3109c1",
   "metadata": {},
   "source": [
    "#### 5.Explain the concept of type casting in Python with examples"
   ]
  },
  {
   "cell_type": "raw",
   "id": "e6455ffa",
   "metadata": {},
   "source": [
    "Type casting in Python refers to the process of converting a value from one data type to another\n",
    "Implicit Type Casting : Python automatically converts a value from one type to another when it makes sense and there is no loss of information.\n",
    "Explicit Type Casting: The programmer explicitly converts a value from one type to another using functions like int(), float(), str(), "
   ]
  },
  {
   "cell_type": "code",
   "execution_count": 30,
   "id": "e0b08d9d",
   "metadata": {},
   "outputs": [
    {
     "name": "stdout",
     "output_type": "stream",
     "text": [
      "7.5\n"
     ]
    }
   ],
   "source": [
    "# Implicit type casting\n",
    "x = 5        # Integer\n",
    "y = 2.5      # Float\n",
    "\n",
    "result = x + y  # Python automatically converts 5 to float\n",
    "print(result)  "
   ]
  },
  {
   "cell_type": "code",
   "execution_count": 33,
   "id": "c79ac5b6",
   "metadata": {},
   "outputs": [
    {
     "data": {
      "text/plain": [
       "str"
      ]
     },
     "execution_count": 33,
     "metadata": {},
     "output_type": "execute_result"
    }
   ],
   "source": [
    "#Explicit Type Casting\n",
    "#Here, the string \"123\" is explicitly converted to an integer using int().\n",
    "Sample_text = \"123\"\n",
    "type(Sample_text)"
   ]
  },
  {
   "cell_type": "code",
   "execution_count": 35,
   "id": "7df69ae2",
   "metadata": {},
   "outputs": [
    {
     "data": {
      "text/plain": [
       "'123'"
      ]
     },
     "execution_count": 35,
     "metadata": {},
     "output_type": "execute_result"
    }
   ],
   "source": [
    "Sample_text"
   ]
  },
  {
   "cell_type": "code",
   "execution_count": 40,
   "id": "e1858bfb",
   "metadata": {},
   "outputs": [
    {
     "name": "stdout",
     "output_type": "stream",
     "text": [
      "<class 'int'>\n"
     ]
    }
   ],
   "source": [
    "Sample_text = \"123\"\n",
    "Sample_num = int(Sample_text)\n",
    "print(type(Sample_num))"
   ]
  },
  {
   "cell_type": "code",
   "execution_count": 41,
   "id": "c369aa09",
   "metadata": {},
   "outputs": [
    {
     "data": {
      "text/plain": [
       "123"
      ]
     },
     "execution_count": 41,
     "metadata": {},
     "output_type": "execute_result"
    }
   ],
   "source": [
    "Sample_num"
   ]
  },
  {
   "cell_type": "raw",
   "id": "cf307ec1",
   "metadata": {},
   "source": [
    "Type casting between incompatible types\n",
    "(e.g., converting a string that cannot be interpreted as a number into an integer) will result in a ValueError."
   ]
  },
  {
   "cell_type": "code",
   "execution_count": 44,
   "id": "0a8649c1",
   "metadata": {
    "collapsed": true
   },
   "outputs": [
    {
     "ename": "ValueError",
     "evalue": "invalid literal for int() with base 10: 'abc'",
     "output_type": "error",
     "traceback": [
      "\u001b[1;31m---------------------------------------------------------------------------\u001b[0m",
      "\u001b[1;31mValueError\u001b[0m                                Traceback (most recent call last)",
      "Cell \u001b[1;32mIn[44], line 3\u001b[0m\n\u001b[0;32m      1\u001b[0m \u001b[38;5;66;03m#Type casting between incompatible types\u001b[39;00m\n\u001b[0;32m      2\u001b[0m Sample_text \u001b[38;5;241m=\u001b[39m \u001b[38;5;124m\"\u001b[39m\u001b[38;5;124mabc\u001b[39m\u001b[38;5;124m\"\u001b[39m\n\u001b[1;32m----> 3\u001b[0m Sample_num \u001b[38;5;241m=\u001b[39m \u001b[38;5;28mint\u001b[39m(Sample_text)\n",
      "\u001b[1;31mValueError\u001b[0m: invalid literal for int() with base 10: 'abc'"
     ]
    }
   ],
   "source": [
    "#Type casting between incompatible types\n",
    "Sample_text = \"abc\"\n",
    "Sample_num = int(Sample_text)"
   ]
  },
  {
   "cell_type": "markdown",
   "id": "82e499bc",
   "metadata": {},
   "source": [
    "#### 6. How do conditional statements work in Python? Illustrate with examples."
   ]
  },
  {
   "cell_type": "code",
   "execution_count": null,
   "id": "d20fa34d",
   "metadata": {},
   "outputs": [],
   "source": []
  },
  {
   "cell_type": "code",
   "execution_count": null,
   "id": "1e7d64cb",
   "metadata": {},
   "outputs": [],
   "source": []
  },
  {
   "cell_type": "code",
   "execution_count": null,
   "id": "1b9f2bf9",
   "metadata": {},
   "outputs": [],
   "source": []
  },
  {
   "cell_type": "code",
   "execution_count": null,
   "id": "c97aac5d",
   "metadata": {},
   "outputs": [],
   "source": []
  },
  {
   "cell_type": "code",
   "execution_count": null,
   "id": "702505fc",
   "metadata": {},
   "outputs": [],
   "source": []
  },
  {
   "cell_type": "code",
   "execution_count": null,
   "id": "5ac45483",
   "metadata": {},
   "outputs": [],
   "source": []
  },
  {
   "cell_type": "code",
   "execution_count": null,
   "id": "117cb28c",
   "metadata": {},
   "outputs": [],
   "source": []
  },
  {
   "cell_type": "code",
   "execution_count": null,
   "id": "fbf3f82a",
   "metadata": {},
   "outputs": [],
   "source": []
  },
  {
   "cell_type": "code",
   "execution_count": null,
   "id": "1be19227",
   "metadata": {},
   "outputs": [],
   "source": []
  },
  {
   "cell_type": "code",
   "execution_count": null,
   "id": "f30c8b58",
   "metadata": {},
   "outputs": [],
   "source": []
  },
  {
   "cell_type": "code",
   "execution_count": null,
   "id": "2b5e0543",
   "metadata": {},
   "outputs": [],
   "source": []
  },
  {
   "cell_type": "code",
   "execution_count": null,
   "id": "b37a0c03",
   "metadata": {},
   "outputs": [],
   "source": []
  },
  {
   "cell_type": "code",
   "execution_count": null,
   "id": "0fba8548",
   "metadata": {},
   "outputs": [],
   "source": []
  },
  {
   "cell_type": "code",
   "execution_count": null,
   "id": "9a356699",
   "metadata": {},
   "outputs": [],
   "source": []
  },
  {
   "cell_type": "code",
   "execution_count": null,
   "id": "b06038e2",
   "metadata": {},
   "outputs": [],
   "source": []
  },
  {
   "cell_type": "code",
   "execution_count": null,
   "id": "2d56a257",
   "metadata": {},
   "outputs": [],
   "source": []
  },
  {
   "cell_type": "code",
   "execution_count": null,
   "id": "9bf37b0f",
   "metadata": {},
   "outputs": [],
   "source": []
  },
  {
   "cell_type": "code",
   "execution_count": null,
   "id": "64696db7",
   "metadata": {},
   "outputs": [],
   "source": []
  },
  {
   "cell_type": "code",
   "execution_count": null,
   "id": "b461680f",
   "metadata": {},
   "outputs": [],
   "source": []
  },
  {
   "cell_type": "code",
   "execution_count": null,
   "id": "b056ee6a",
   "metadata": {},
   "outputs": [],
   "source": []
  },
  {
   "cell_type": "code",
   "execution_count": null,
   "id": "aadb80d9",
   "metadata": {},
   "outputs": [],
   "source": []
  },
  {
   "cell_type": "code",
   "execution_count": null,
   "id": "52fa7cca",
   "metadata": {},
   "outputs": [],
   "source": []
  },
  {
   "cell_type": "code",
   "execution_count": null,
   "id": "363d49dc",
   "metadata": {},
   "outputs": [],
   "source": []
  },
  {
   "cell_type": "code",
   "execution_count": null,
   "id": "fe0ab58f",
   "metadata": {},
   "outputs": [],
   "source": []
  },
  {
   "cell_type": "code",
   "execution_count": null,
   "id": "ae895a49",
   "metadata": {},
   "outputs": [],
   "source": []
  },
  {
   "cell_type": "code",
   "execution_count": null,
   "id": "806b5bcd",
   "metadata": {},
   "outputs": [],
   "source": []
  },
  {
   "cell_type": "code",
   "execution_count": null,
   "id": "8d9371cf",
   "metadata": {},
   "outputs": [],
   "source": []
  },
  {
   "cell_type": "code",
   "execution_count": null,
   "id": "af54e440",
   "metadata": {},
   "outputs": [],
   "source": []
  },
  {
   "cell_type": "code",
   "execution_count": null,
   "id": "2ad74cd0",
   "metadata": {},
   "outputs": [],
   "source": []
  },
  {
   "cell_type": "code",
   "execution_count": null,
   "id": "bfc540f1",
   "metadata": {},
   "outputs": [],
   "source": []
  },
  {
   "cell_type": "code",
   "execution_count": null,
   "id": "72bacd0c",
   "metadata": {},
   "outputs": [],
   "source": []
  },
  {
   "cell_type": "code",
   "execution_count": null,
   "id": "8b120d43",
   "metadata": {},
   "outputs": [],
   "source": []
  },
  {
   "cell_type": "code",
   "execution_count": null,
   "id": "9454f0c1",
   "metadata": {},
   "outputs": [],
   "source": []
  },
  {
   "cell_type": "code",
   "execution_count": null,
   "id": "fc0d109c",
   "metadata": {},
   "outputs": [],
   "source": []
  },
  {
   "cell_type": "code",
   "execution_count": null,
   "id": "7685bfde",
   "metadata": {},
   "outputs": [],
   "source": []
  },
  {
   "cell_type": "code",
   "execution_count": null,
   "id": "f5e999f6",
   "metadata": {},
   "outputs": [],
   "source": []
  },
  {
   "cell_type": "code",
   "execution_count": null,
   "id": "a9c340f4",
   "metadata": {},
   "outputs": [],
   "source": []
  },
  {
   "cell_type": "code",
   "execution_count": null,
   "id": "d0603e48",
   "metadata": {},
   "outputs": [],
   "source": []
  },
  {
   "cell_type": "code",
   "execution_count": null,
   "id": "da8f86a6",
   "metadata": {},
   "outputs": [],
   "source": []
  },
  {
   "cell_type": "code",
   "execution_count": null,
   "id": "5fffd3c5",
   "metadata": {},
   "outputs": [],
   "source": []
  },
  {
   "cell_type": "code",
   "execution_count": null,
   "id": "06610477",
   "metadata": {},
   "outputs": [],
   "source": []
  },
  {
   "cell_type": "code",
   "execution_count": null,
   "id": "ec90145b",
   "metadata": {},
   "outputs": [],
   "source": []
  },
  {
   "cell_type": "code",
   "execution_count": null,
   "id": "8cf56a9a",
   "metadata": {},
   "outputs": [],
   "source": []
  },
  {
   "cell_type": "code",
   "execution_count": null,
   "id": "3753a201",
   "metadata": {},
   "outputs": [],
   "source": []
  },
  {
   "cell_type": "code",
   "execution_count": null,
   "id": "e638f09c",
   "metadata": {},
   "outputs": [],
   "source": []
  }
 ],
 "metadata": {
  "kernelspec": {
   "display_name": "Python 3 (ipykernel)",
   "language": "python",
   "name": "python3"
  },
  "language_info": {
   "codemirror_mode": {
    "name": "ipython",
    "version": 3
   },
   "file_extension": ".py",
   "mimetype": "text/x-python",
   "name": "python",
   "nbconvert_exporter": "python",
   "pygments_lexer": "ipython3",
   "version": "3.11.5"
  }
 },
 "nbformat": 4,
 "nbformat_minor": 5
}
