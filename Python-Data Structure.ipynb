{
 "cells": [
  {
   "cell_type": "markdown",
   "id": "2b38abf1",
   "metadata": {},
   "source": [
    "#### 1.Discuss string slicing and provide examples"
   ]
  },
  {
   "cell_type": "markdown",
   "id": "cde56bbb",
   "metadata": {},
   "source": [
    "String slicing in Python is a way to extract a substring of a string\n",
    "It involves specifying a start and end index\n",
    "String slicing is a very powerful feature in Python to flexible manipulation of string data."
   ]
  },
  {
   "cell_type": "markdown",
   "id": "eaa4ff3c",
   "metadata": {},
   "source": [
    "Syntax of String Slicing:\n",
    "    String[Start:end:step]"
   ]
  },
  {
   "cell_type": "code",
   "execution_count": 4,
   "id": "f0ef0ab9",
   "metadata": {
    "collapsed": true
   },
   "outputs": [
    {
     "name": "stdout",
     "output_type": "stream",
     "text": [
      "Pwskills\n"
     ]
    }
   ],
   "source": [
    "#example Slicing without step Size\n",
    "Sample_str = \"Pwskills\"\n",
    "Sample_substr = Sample_str[::] \n",
    "print(Sample_substr)"
   ]
  },
  {
   "cell_type": "code",
   "execution_count": 2,
   "id": "3acb2e40",
   "metadata": {
    "collapsed": true
   },
   "outputs": [
    {
     "name": "stdout",
     "output_type": "stream",
     "text": [
      "Psil\n"
     ]
    }
   ],
   "source": [
    "#example using step size\n",
    "Sample_str = \"Pwskills\"\n",
    "Sample_substr = Sample_str[0::2] #The step parameter allows you to skip characters while slicing.\n",
    "print(Sample_substr) "
   ]
  },
  {
   "cell_type": "code",
   "execution_count": 3,
   "id": "5dab7e70",
   "metadata": {
    "collapsed": true
   },
   "outputs": [
    {
     "name": "stdout",
     "output_type": "stream",
     "text": [
      "iksw\n"
     ]
    }
   ],
   "source": [
    "#example Slicing with Negative step\n",
    "Sample_str = \"Pwskills\"\n",
    "Sample_substr = Sample_str[4:0:-1] #A negative step value allows you to reverse the string.\n",
    "print(Sample_substr)"
   ]
  },
  {
   "cell_type": "markdown",
   "id": "af1258a3",
   "metadata": {},
   "source": [
    "#### 2.Explain the key features of lists in Python"
   ]
  },
  {
   "cell_type": "markdown",
   "id": "4f40a4f8",
   "metadata": {},
   "source": [
    "They are versatile  mutable (changeable) and can store elements of different types"
   ]
  },
  {
   "cell_type": "code",
   "execution_count": null,
   "id": "dc4e4c3c",
   "metadata": {},
   "outputs": [],
   "source": [
    "1.ordered collection(index) \n",
    "2.mutable(changeable)\n",
    "3.dynamic size(no fixed size)\n",
    "4.Allows differnt datatypes(Heterogeneous)\n",
    "5.indexing and slicing\n",
    "6.support various operation(append,remove,pop,insert,index,sort,reverse,extend)\n",
    "7.it is used in stacks and queue(different methods)\n",
    "8.list Comprehension"
   ]
  },
  {
   "cell_type": "markdown",
   "id": "69ae8434",
   "metadata": {},
   "source": [
    "#### 3.Describe how to access, modify, and delete elements in a list with example"
   ]
  },
  {
   "cell_type": "markdown",
   "id": "2267a33d",
   "metadata": {},
   "source": [
    "In Python lists are mutable meaning you can access, modify, and delete elements after the list is created"
   ]
  },
  {
   "cell_type": "markdown",
   "id": "98b4a233",
   "metadata": {},
   "source": [
    "Accessing elements is done using indexing and slicing.\n",
    "Modifying elements can be done by assigning new values to specific indices or slices.\n",
    "Deleting elements can be accomplished using del, remove(), or pop() methods,\n",
    " depending on whether you want to remove an element by index or value.\n"
   ]
  },
  {
   "cell_type": "code",
   "execution_count": 14,
   "id": "b575ea1c",
   "metadata": {},
   "outputs": [
    {
     "data": {
      "text/plain": [
       "[15, 'Aug', 19, 47]"
      ]
     },
     "execution_count": 14,
     "metadata": {},
     "output_type": "execute_result"
    }
   ],
   "source": [
    "#Accessing elements\n",
    "Sample_list = [15,\"Aug\",19,47,\"independence\",\"day\"]\n",
    "Sample_list[0:4]"
   ]
  },
  {
   "cell_type": "code",
   "execution_count": 15,
   "id": "404ce0fe",
   "metadata": {
    "collapsed": true
   },
   "outputs": [
    {
     "data": {
      "text/plain": [
       "[15, 19, 'independence']"
      ]
     },
     "execution_count": 15,
     "metadata": {},
     "output_type": "execute_result"
    }
   ],
   "source": [
    "#Accessing elements using slicing\n",
    "Sample_list = [15,\"Aug\",19,47,\"independence\",\"day\"]\n",
    "Sample_list[0::2]"
   ]
  },
  {
   "cell_type": "code",
   "execution_count": 16,
   "id": "617f709d",
   "metadata": {
    "collapsed": true
   },
   "outputs": [
    {
     "data": {
      "text/plain": [
       "['independence', 47, 19]"
      ]
     },
     "execution_count": 16,
     "metadata": {},
     "output_type": "execute_result"
    }
   ],
   "source": [
    "#Accessing elements using negative slicing\n",
    "Sample_list = [15,\"Aug\",19,47,\"independence\",\"day\"]\n",
    "Sample_list[4:1:-1]"
   ]
  },
  {
   "cell_type": "code",
   "execution_count": 17,
   "id": "aac26907",
   "metadata": {
    "collapsed": true
   },
   "outputs": [
    {
     "data": {
      "text/plain": [
       "[15, 'Aug', 19, 47, 'independence', 'day']"
      ]
     },
     "execution_count": 17,
     "metadata": {},
     "output_type": "execute_result"
    }
   ],
   "source": [
    "Sample_list"
   ]
  },
  {
   "cell_type": "code",
   "execution_count": 18,
   "id": "6b3fd70a",
   "metadata": {},
   "outputs": [],
   "source": [
    "#modify the elements \n",
    "Sample_list[0]= \"Aug\"\n",
    "Sample_list[1]=15"
   ]
  },
  {
   "cell_type": "code",
   "execution_count": 19,
   "id": "9978f9b0",
   "metadata": {
    "collapsed": true
   },
   "outputs": [
    {
     "data": {
      "text/plain": [
       "['Aug', 15, 19, 47, 'independence', 'day']"
      ]
     },
     "execution_count": 19,
     "metadata": {},
     "output_type": "execute_result"
    }
   ],
   "source": [
    "Sample_list"
   ]
  },
  {
   "cell_type": "code",
   "execution_count": 20,
   "id": "a6dec934",
   "metadata": {},
   "outputs": [],
   "source": [
    "#modify the sublist\n",
    "Sample_list[2:] = [\"independence\",\"day\",19,47]"
   ]
  },
  {
   "cell_type": "code",
   "execution_count": 21,
   "id": "c621f2bd",
   "metadata": {},
   "outputs": [
    {
     "data": {
      "text/plain": [
       "['Aug', 15, 'independence', 'day', 19, 47]"
      ]
     },
     "execution_count": 21,
     "metadata": {},
     "output_type": "execute_result"
    }
   ],
   "source": [
    "Sample_list"
   ]
  },
  {
   "cell_type": "code",
   "execution_count": 22,
   "id": "5098a809",
   "metadata": {},
   "outputs": [],
   "source": [
    "Sample_list.insert(1,\"15th\") # index location"
   ]
  },
  {
   "cell_type": "code",
   "execution_count": 23,
   "id": "20c95218",
   "metadata": {},
   "outputs": [
    {
     "data": {
      "text/plain": [
       "['Aug', '15th', 15, 'independence', 'day', 19, 47]"
      ]
     },
     "execution_count": 23,
     "metadata": {},
     "output_type": "execute_result"
    }
   ],
   "source": [
    "Sample_list"
   ]
  },
  {
   "cell_type": "code",
   "execution_count": 25,
   "id": "6626d128",
   "metadata": {},
   "outputs": [],
   "source": [
    "#remove and del the elements\n",
    "#remove the element\n",
    "Sample_list.remove(15)#element to remove"
   ]
  },
  {
   "cell_type": "code",
   "execution_count": 26,
   "id": "723fe416",
   "metadata": {},
   "outputs": [
    {
     "data": {
      "text/plain": [
       "['Aug', '15th', 'independence', 'day', 19, 47]"
      ]
     },
     "execution_count": 26,
     "metadata": {},
     "output_type": "execute_result"
    }
   ],
   "source": [
    "Sample_list"
   ]
  },
  {
   "cell_type": "code",
   "execution_count": 27,
   "id": "d7948a05",
   "metadata": {},
   "outputs": [
    {
     "data": {
      "text/plain": [
       "47"
      ]
     },
     "execution_count": 27,
     "metadata": {},
     "output_type": "execute_result"
    }
   ],
   "source": [
    "Sample_list.pop() # remove the last element"
   ]
  },
  {
   "cell_type": "code",
   "execution_count": 28,
   "id": "0c0f2b71",
   "metadata": {},
   "outputs": [
    {
     "data": {
      "text/plain": [
       "['Aug', '15th', 'independence', 'day', 19]"
      ]
     },
     "execution_count": 28,
     "metadata": {},
     "output_type": "execute_result"
    }
   ],
   "source": [
    "Sample_list"
   ]
  },
  {
   "cell_type": "code",
   "execution_count": 29,
   "id": "439942f9",
   "metadata": {},
   "outputs": [],
   "source": [
    "#del entire list \n",
    "del Sample_list"
   ]
  },
  {
   "cell_type": "code",
   "execution_count": 30,
   "id": "d108ddbd",
   "metadata": {
    "collapsed": true
   },
   "outputs": [
    {
     "ename": "NameError",
     "evalue": "name 'Sample_list' is not defined",
     "output_type": "error",
     "traceback": [
      "\u001b[1;31m---------------------------------------------------------------------------\u001b[0m",
      "\u001b[1;31mNameError\u001b[0m                                 Traceback (most recent call last)",
      "Cell \u001b[1;32mIn[30], line 1\u001b[0m\n\u001b[1;32m----> 1\u001b[0m Sample_list\n",
      "\u001b[1;31mNameError\u001b[0m: name 'Sample_list' is not defined"
     ]
    }
   ],
   "source": [
    "Sample_list"
   ]
  },
  {
   "cell_type": "markdown",
   "id": "cfa74084",
   "metadata": {},
   "source": [
    "#### 4.Compare and contrast tuples and lists with examples"
   ]
  },
  {
   "cell_type": "markdown",
   "id": "232fe282",
   "metadata": {},
   "source": [
    "List: Lists are mutable\n",
    "Tuple: Tuples are immutable"
   ]
  },
  {
   "cell_type": "code",
   "execution_count": 3,
   "id": "1bd8f9da",
   "metadata": {},
   "outputs": [],
   "source": [
    "#example\n",
    "\n",
    "# List example\n",
    "my_list = [1, 2, 3]\n",
    "my_list[0] = 10  # Modify an element\n"
   ]
  },
  {
   "cell_type": "code",
   "execution_count": 4,
   "id": "d2d7eb40",
   "metadata": {},
   "outputs": [
    {
     "data": {
      "text/plain": [
       "[10, 2, 3]"
      ]
     },
     "execution_count": 4,
     "metadata": {},
     "output_type": "execute_result"
    }
   ],
   "source": [
    "my_list"
   ]
  },
  {
   "cell_type": "code",
   "execution_count": 5,
   "id": "34a032ef",
   "metadata": {},
   "outputs": [
    {
     "name": "stdout",
     "output_type": "stream",
     "text": [
      "[10, 2, 3, 4]\n"
     ]
    }
   ],
   "source": [
    "my_list.append(4)  # Add an element\n",
    "print(my_list)  # Output: [10, 2, 3, 4]"
   ]
  },
  {
   "cell_type": "code",
   "execution_count": 157,
   "id": "e5c9378d",
   "metadata": {},
   "outputs": [],
   "source": [
    "# Tuple example\n",
    "my_tuple = (1, 2, 3)"
   ]
  },
  {
   "cell_type": "code",
   "execution_count": 7,
   "id": "c21188b2",
   "metadata": {
    "collapsed": true
   },
   "outputs": [
    {
     "ename": "TypeError",
     "evalue": "'tuple' object does not support item assignment",
     "output_type": "error",
     "traceback": [
      "\u001b[1;31m---------------------------------------------------------------------------\u001b[0m",
      "\u001b[1;31mTypeError\u001b[0m                                 Traceback (most recent call last)",
      "Cell \u001b[1;32mIn[7], line 3\u001b[0m\n\u001b[0;32m      1\u001b[0m \u001b[38;5;66;03m# Tuple example\u001b[39;00m\n\u001b[0;32m      2\u001b[0m my_tuple \u001b[38;5;241m=\u001b[39m (\u001b[38;5;241m1\u001b[39m, \u001b[38;5;241m2\u001b[39m, \u001b[38;5;241m3\u001b[39m)\n\u001b[1;32m----> 3\u001b[0m my_tuple[\u001b[38;5;241m0\u001b[39m] \u001b[38;5;241m=\u001b[39m \u001b[38;5;241m10\u001b[39m\n",
      "\u001b[1;31mTypeError\u001b[0m: 'tuple' object does not support item assignment"
     ]
    }
   ],
   "source": [
    "# Tuple example\n",
    "my_tuple = (1, 2, 3)\n",
    "my_tuple[0] = 10  # This will raise a TypeError since tuples are immutable"
   ]
  },
  {
   "cell_type": "markdown",
   "id": "b07dbd40",
   "metadata": {},
   "source": [
    "Tuples are more memory-efficient and faster than lists due to their immutability\n",
    "Tuple: Tuples have fewer methods. Since they are immutable, methods like append() or remove() don't exist for tuples, but they do have methods like count() and index()."
   ]
  },
  {
   "cell_type": "code",
   "execution_count": 158,
   "id": "338138e8",
   "metadata": {},
   "outputs": [
    {
     "data": {
      "text/plain": [
       "(1, 2, 3)"
      ]
     },
     "execution_count": 158,
     "metadata": {},
     "output_type": "execute_result"
    }
   ],
   "source": [
    "my_tuple"
   ]
  },
  {
   "cell_type": "code",
   "execution_count": 159,
   "id": "97a8166a",
   "metadata": {
    "collapsed": true
   },
   "outputs": [
    {
     "data": {
      "text/plain": [
       "1"
      ]
     },
     "execution_count": 159,
     "metadata": {},
     "output_type": "execute_result"
    }
   ],
   "source": [
    "my_tuple.count(2)"
   ]
  },
  {
   "cell_type": "code",
   "execution_count": 160,
   "id": "72b6fcd6",
   "metadata": {
    "collapsed": true
   },
   "outputs": [
    {
     "data": {
      "text/plain": [
       "1"
      ]
     },
     "execution_count": 160,
     "metadata": {},
     "output_type": "execute_result"
    }
   ],
   "source": [
    "my_tuple.index(2)"
   ]
  },
  {
   "cell_type": "markdown",
   "id": "982c3ec4",
   "metadata": {},
   "source": [
    "#### 5.Describe the key features of sets and provide examples of their use"
   ]
  },
  {
   "cell_type": "markdown",
   "id": "f6ccf69b",
   "metadata": {},
   "source": [
    "A set in Python is an unordered collection of unique elements"
   ]
  },
  {
   "cell_type": "code",
   "execution_count": 164,
   "id": "4797fecc",
   "metadata": {},
   "outputs": [
    {
     "name": "stdout",
     "output_type": "stream",
     "text": [
      "{1, 'hello', 'Pwskills', 'hello world!'}\n"
     ]
    }
   ],
   "source": [
    "#example with unordered collection of unique elements \n",
    "Sample_set = {1, \"Pwskills\",\"hello\",\"hello world!\",1,\"Pwskills\",\"hello world!\",1,\"Pwskills\"}\n",
    "print(my_set)  "
   ]
  },
  {
   "cell_type": "code",
   "execution_count": 165,
   "id": "84598d3c",
   "metadata": {
    "collapsed": true
   },
   "outputs": [
    {
     "data": {
      "text/plain": [
       "{1, 'Pwskills', 'hello', 'hello world!'}"
      ]
     },
     "execution_count": 165,
     "metadata": {},
     "output_type": "execute_result"
    }
   ],
   "source": [
    "#with unordered collection\n",
    "Sample_set={1, 'hello', 'Pwskills', 'hello world!'}\n",
    "Sample_set"
   ]
  },
  {
   "cell_type": "code",
   "execution_count": 170,
   "id": "b9fd45c1",
   "metadata": {},
   "outputs": [],
   "source": [
    "#example mutable but No indexing\n",
    "Sample_set.add(\"world\")\n",
    "Sample_set.update([\"gudmorning\"])"
   ]
  },
  {
   "cell_type": "code",
   "execution_count": 171,
   "id": "fe825a18",
   "metadata": {
    "collapsed": true
   },
   "outputs": [
    {
     "data": {
      "text/plain": [
       "{1, 'Pwskills', 'gudmorning', 'hello', 'hello world!', 'world'}"
      ]
     },
     "execution_count": 171,
     "metadata": {},
     "output_type": "execute_result"
    }
   ],
   "source": [
    "Sample_set"
   ]
  },
  {
   "cell_type": "code",
   "execution_count": 173,
   "id": "6892cfd4",
   "metadata": {},
   "outputs": [],
   "source": [
    "Sample_set.remove('hello world!')"
   ]
  },
  {
   "cell_type": "code",
   "execution_count": 174,
   "id": "ea8fb309",
   "metadata": {
    "collapsed": true
   },
   "outputs": [
    {
     "data": {
      "text/plain": [
       "{1, 'Pwskills', 'gudmorning', 'hello', 'world'}"
      ]
     },
     "execution_count": 174,
     "metadata": {},
     "output_type": "execute_result"
    }
   ],
   "source": [
    "Sample_set"
   ]
  },
  {
   "cell_type": "code",
   "execution_count": 172,
   "id": "323c32fb",
   "metadata": {
    "collapsed": true
   },
   "outputs": [
    {
     "ename": "TypeError",
     "evalue": "'set' object is not subscriptable",
     "output_type": "error",
     "traceback": [
      "\u001b[1;31m---------------------------------------------------------------------------\u001b[0m",
      "\u001b[1;31mTypeError\u001b[0m                                 Traceback (most recent call last)",
      "Cell \u001b[1;32mIn[172], line 1\u001b[0m\n\u001b[1;32m----> 1\u001b[0m Sample_set[\u001b[38;5;241m0\u001b[39m]\n",
      "\u001b[1;31mTypeError\u001b[0m: 'set' object is not subscriptable"
     ]
    }
   ],
   "source": [
    "Sample_set[0]"
   ]
  },
  {
   "cell_type": "markdown",
   "id": "d35c4b44",
   "metadata": {},
   "source": [
    "#set operations \n",
    "Sets support various mathematical set operations like union, intersection, difference, and symmetric difference."
   ]
  },
  {
   "cell_type": "code",
   "execution_count": 175,
   "id": "154a2fbb",
   "metadata": {},
   "outputs": [],
   "source": [
    "#example \n",
    "set1 = {1, \"Sets\", \"list\", \"tuple\"}\n",
    "set2 = {2,1,\"list\",\"remove\"}\n"
   ]
  },
  {
   "cell_type": "code",
   "execution_count": 176,
   "id": "edc6c2c0",
   "metadata": {
    "collapsed": true
   },
   "outputs": [
    {
     "name": "stdout",
     "output_type": "stream",
     "text": [
      "{1, 2, 'list', 'remove', 'Sets', 'tuple'}\n",
      "{1, 'list'}\n",
      "{'tuple', 'Sets'}\n",
      "{2, 'remove', 'Sets', 'tuple'}\n"
     ]
    }
   ],
   "source": [
    "# Union (elements that are in either set)\n",
    "union_set = set1 | set2\n",
    "print(union_set) \n",
    "\n",
    "# Intersection (elements that are in both sets)\n",
    "intersection_set = set1 & set2\n",
    "print(intersection_set) \n",
    "\n",
    "# Difference (elements in set1 but not in set2)\n",
    "difference_set = set1 - set2\n",
    "print(difference_set)  \n",
    "\n",
    "# Symmetric Difference (elements that are in either set but not both)\n",
    "symmetric_difference_set = set1 ^ set2\n",
    "print(symmetric_difference_set) "
   ]
  },
  {
   "cell_type": "markdown",
   "id": "5ffc5389",
   "metadata": {},
   "source": [
    "#### 6.Discuss the use cases of tuples and sets in Python programming"
   ]
  },
  {
   "cell_type": "markdown",
   "id": "e5459d7d",
   "metadata": {},
   "source": [
    "In Python, tuples and sets are both used for storing collections of data"
   ]
  },
  {
   "cell_type": "markdown",
   "id": "7640fa20",
   "metadata": {},
   "source": [
    "Use Cases of Tuples:\n",
    "Immutable Collections\n",
    "Use as Dictionary Keys\n",
    "Performance: Tuples are faster than lists when it comes to iteration, since they are immutable."
   ]
  },
  {
   "cell_type": "code",
   "execution_count": 178,
   "id": "97232e4b",
   "metadata": {},
   "outputs": [],
   "source": [
    "#example\n",
    "Co_x_y = {}\n",
    "Co_x_y[(0, 0)] = 'Origin' #Use as Dictionary Keys "
   ]
  },
  {
   "cell_type": "code",
   "execution_count": 179,
   "id": "825d4e8b",
   "metadata": {},
   "outputs": [
    {
     "data": {
      "text/plain": [
       "{(0, 0): 'Origin'}"
      ]
     },
     "execution_count": 179,
     "metadata": {},
     "output_type": "execute_result"
    }
   ],
   "source": [
    "Co_x_y"
   ]
  },
  {
   "cell_type": "markdown",
   "id": "95fe6363",
   "metadata": {},
   "source": [
    "use cases od sets:\n",
    "1.Eliminating Duplicates\n",
    "2.Mathematical Set Operations\n",
    "3.Performance for Large Datasets:\n",
    "4.Tracking Unique Itemsm"
   ]
  },
  {
   "cell_type": "code",
   "execution_count": 181,
   "id": "d129e5ab",
   "metadata": {},
   "outputs": [
    {
     "name": "stdout",
     "output_type": "stream",
     "text": [
      "{1, 2, 3, 4, 5}\n"
     ]
    }
   ],
   "source": [
    "#example\n",
    "data = [1, 2, 3, 3, 4, 5, 5]\n",
    "unique_data = set(data)\n",
    "print(unique_data)  "
   ]
  },
  {
   "cell_type": "markdown",
   "id": "d6eca34e",
   "metadata": {},
   "source": [
    "#### 7.Describe how to add, modify, and delete items in a dictionary with examples"
   ]
  },
  {
   "cell_type": "markdown",
   "id": "1367878e",
   "metadata": {},
   "source": [
    "1.Adding items: Use the = operator to add new key-value pairs.\n",
    "2.Modifying items: Directly assign a new value to an existing key, or use .update() to modify multiple items.\n",
    "3.Deleting items:\n",
    "Use del to remove a specific key-value pair.\n",
    "Use .pop() to remove and return a key-value pair.\n",
    "Use .popitem() to remove and return an arbitrary key-value pair.\n",
    "Use .clear() to remove all items in the dictionary."
   ]
  },
  {
   "cell_type": "code",
   "execution_count": 182,
   "id": "67af69ee",
   "metadata": {},
   "outputs": [
    {
     "name": "stdout",
     "output_type": "stream",
     "text": [
      "{'name': 'Sunil', 'age': 30, 'city': 'hyd'}\n"
     ]
    }
   ],
   "source": [
    "#Sample_dict\n",
    "\n",
    "# Creating an empty dictionary\n",
    "Sample_dict = {}\n",
    "\n",
    "# Adding new key-value pairs\n",
    "Sample_dict[\"name\"] = \"Sunil\"\n",
    "Sample_dict[\"age\"] = 30\n",
    "Sample_dict[\"city\"] = \"hyd\"\n",
    "\n",
    "print(Sample_dict)\n"
   ]
  },
  {
   "cell_type": "code",
   "execution_count": 183,
   "id": "28c37054",
   "metadata": {},
   "outputs": [
    {
     "name": "stdout",
     "output_type": "stream",
     "text": [
      "{'name': 'Sunil', 'age': 31, 'city': 'hyd'}\n"
     ]
    }
   ],
   "source": [
    "#Adding items\n",
    "#Adding or Updating a Key-Value Pair:\n",
    "\n",
    "Sample_dict[\"age\"] = 31  # Update the value for existing key 'age'\n",
    "print(Sample_dict)"
   ]
  },
  {
   "cell_type": "code",
   "execution_count": 184,
   "id": "934b03c3",
   "metadata": {},
   "outputs": [
    {
     "name": "stdout",
     "output_type": "stream",
     "text": [
      "{'name': 'Sunil', 'age': 32, 'city': 'Bangalore'}\n"
     ]
    }
   ],
   "source": [
    "# Using update() to modify multiple items\n",
    "Sample_dict.update({\"age\": 32, \"city\": \"Bangalore\"})\n",
    "\n",
    "print(Sample_dict)"
   ]
  },
  {
   "cell_type": "code",
   "execution_count": 185,
   "id": "09b88375",
   "metadata": {},
   "outputs": [
    {
     "name": "stdout",
     "output_type": "stream",
     "text": [
      "Removed value: Bangalore\n"
     ]
    }
   ],
   "source": [
    "#del Using .pop() method using key\n",
    "removed_value = Sample_dict.pop(\"city\")\n",
    "print(\"Removed value:\", removed_value)\n"
   ]
  },
  {
   "cell_type": "code",
   "execution_count": 186,
   "id": "23a42e2a",
   "metadata": {},
   "outputs": [
    {
     "data": {
      "text/plain": [
       "{'name': 'Sunil', 'age': 32}"
      ]
     },
     "execution_count": 186,
     "metadata": {},
     "output_type": "execute_result"
    }
   ],
   "source": [
    "Sample_dict"
   ]
  },
  {
   "cell_type": "code",
   "execution_count": 188,
   "id": "d54eb1ee",
   "metadata": {},
   "outputs": [],
   "source": [
    "#del method using key\n",
    "del Sample_dict[\"name\"]"
   ]
  },
  {
   "cell_type": "code",
   "execution_count": 189,
   "id": "3d10312a",
   "metadata": {},
   "outputs": [
    {
     "data": {
      "text/plain": [
       "{'age': 32}"
      ]
     },
     "execution_count": 189,
     "metadata": {},
     "output_type": "execute_result"
    }
   ],
   "source": [
    "Sample_dict"
   ]
  },
  {
   "cell_type": "code",
   "execution_count": 190,
   "id": "417787d9",
   "metadata": {},
   "outputs": [],
   "source": [
    "# del entire dict\n",
    "del Sample_dict"
   ]
  },
  {
   "cell_type": "code",
   "execution_count": 191,
   "id": "8ed21674",
   "metadata": {
    "collapsed": true
   },
   "outputs": [
    {
     "ename": "NameError",
     "evalue": "name 'Sample_dict' is not defined",
     "output_type": "error",
     "traceback": [
      "\u001b[1;31m---------------------------------------------------------------------------\u001b[0m",
      "\u001b[1;31mNameError\u001b[0m                                 Traceback (most recent call last)",
      "Cell \u001b[1;32mIn[191], line 1\u001b[0m\n\u001b[1;32m----> 1\u001b[0m Sample_dict\n",
      "\u001b[1;31mNameError\u001b[0m: name 'Sample_dict' is not defined"
     ]
    }
   ],
   "source": [
    "Sample_dict"
   ]
  },
  {
   "cell_type": "code",
   "execution_count": 196,
   "id": "e5bc4ad0",
   "metadata": {},
   "outputs": [
    {
     "name": "stdout",
     "output_type": "stream",
     "text": [
      "{'name': 'Sunil', 'age': 30, 'city': 'hyd'}\n"
     ]
    }
   ],
   "source": [
    "#Sample_dict\n",
    "\n",
    "# Creating an empty dictionary\n",
    "Sample_dict = {}\n",
    "\n",
    "# Adding new key-value pairs\n",
    "Sample_dict[\"name\"] = \"Sunil\"\n",
    "Sample_dict[\"age\"] = 30\n",
    "Sample_dict[\"city\"] = \"hyd\"\n",
    "\n",
    "print(Sample_dict)\n"
   ]
  },
  {
   "cell_type": "code",
   "execution_count": 197,
   "id": "4c771b41",
   "metadata": {
    "collapsed": true
   },
   "outputs": [
    {
     "data": {
      "text/plain": [
       "{'name': 'Sunil', 'age': 30, 'city': 'hyd'}"
      ]
     },
     "execution_count": 197,
     "metadata": {},
     "output_type": "execute_result"
    }
   ],
   "source": [
    "Sample_dict"
   ]
  },
  {
   "cell_type": "code",
   "execution_count": 198,
   "id": "ec790471",
   "metadata": {},
   "outputs": [],
   "source": [
    "#del using clear\n",
    "Sample_dict.clear()"
   ]
  },
  {
   "cell_type": "code",
   "execution_count": 199,
   "id": "84faec6c",
   "metadata": {},
   "outputs": [
    {
     "data": {
      "text/plain": [
       "{}"
      ]
     },
     "execution_count": 199,
     "metadata": {},
     "output_type": "execute_result"
    }
   ],
   "source": [
    "Sample_dict"
   ]
  },
  {
   "cell_type": "markdown",
   "id": "32068af7",
   "metadata": {},
   "source": [
    "#### 8.Discuss the importance of dictionary keys being immutable and provide examples."
   ]
  },
  {
   "cell_type": "markdown",
   "id": "a03e9c5a",
   "metadata": {},
   "source": [
    "The immutability of dictionary keys in Python is critical for ensuring the integrity and performance of dictionary operations\n",
    "Immutable objects like strings, numbers, and tuples can be reliably used as dictionary keys \n",
    "because their hash values remain consistent"
   ]
  },
  {
   "cell_type": "markdown",
   "id": "3406eec7",
   "metadata": {},
   "source": [
    "#Valid (Immutable) Dictionary Keys:\n",
    "1.string\n",
    "2.Numbers\n",
    "3.Tuples"
   ]
  },
  {
   "cell_type": "code",
   "execution_count": 201,
   "id": "0a491909",
   "metadata": {
    "collapsed": true
   },
   "outputs": [
    {
     "name": "stdout",
     "output_type": "stream",
     "text": [
      "Sunil\n"
     ]
    }
   ],
   "source": [
    "#Sample_dict using string\n",
    "Sample_dict = {\"name\": \"Sunil\", \"city\": \"Hyd\"}\n",
    "print(Sample_dict[\"name\"])"
   ]
  },
  {
   "cell_type": "code",
   "execution_count": 202,
   "id": "3fc9d712",
   "metadata": {
    "collapsed": true
   },
   "outputs": [
    {
     "name": "stdout",
     "output_type": "stream",
     "text": [
      "Pwskills\n"
     ]
    }
   ],
   "source": [
    "#Sample_dict using number\n",
    "Sample_dict = {1: \"Pwskills\", 2: \"AI\"}\n",
    "print(Sample_dict[1]) "
   ]
  },
  {
   "cell_type": "code",
   "execution_count": 205,
   "id": "9d129671",
   "metadata": {
    "collapsed": true
   },
   "outputs": [
    {
     "name": "stdout",
     "output_type": "stream",
     "text": [
      "Pwskills\n"
     ]
    }
   ],
   "source": [
    "#Sample_dict using tuple\n",
    "Sample_dict ={(1,2,3):\"Pwskills\",2: \"AI\"}\n",
    "print(Sample_dict[(1,2,3)])"
   ]
  },
  {
   "cell_type": "markdown",
   "id": "6ed34873",
   "metadata": {},
   "source": [
    "#invalid keys list and sets"
   ]
  },
  {
   "cell_type": "code",
   "execution_count": 206,
   "id": "1ace55e1",
   "metadata": {
    "collapsed": true
   },
   "outputs": [
    {
     "ename": "TypeError",
     "evalue": "unhashable type: 'list'",
     "output_type": "error",
     "traceback": [
      "\u001b[1;31m---------------------------------------------------------------------------\u001b[0m",
      "\u001b[1;31mTypeError\u001b[0m                                 Traceback (most recent call last)",
      "Cell \u001b[1;32mIn[206], line 3\u001b[0m\n\u001b[0;32m      1\u001b[0m \u001b[38;5;66;03m#Sample_dict using list\u001b[39;00m\n\u001b[0;32m      2\u001b[0m \u001b[38;5;66;03m#unhashable type error\u001b[39;00m\n\u001b[1;32m----> 3\u001b[0m Sample_dict \u001b[38;5;241m=\u001b[39m{[\u001b[38;5;241m1\u001b[39m,\u001b[38;5;241m2\u001b[39m,\u001b[38;5;241m3\u001b[39m]:\u001b[38;5;124m\"\u001b[39m\u001b[38;5;124mPwskills\u001b[39m\u001b[38;5;124m\"\u001b[39m,\u001b[38;5;241m2\u001b[39m: \u001b[38;5;124m\"\u001b[39m\u001b[38;5;124mAI\u001b[39m\u001b[38;5;124m\"\u001b[39m}\n\u001b[0;32m      4\u001b[0m \u001b[38;5;28mprint\u001b[39m(Sample_dict[[\u001b[38;5;241m1\u001b[39m,\u001b[38;5;241m2\u001b[39m,\u001b[38;5;241m3\u001b[39m]])\n",
      "\u001b[1;31mTypeError\u001b[0m: unhashable type: 'list'"
     ]
    }
   ],
   "source": [
    "#Sample_dict using list\n",
    "#unhashable type error\n",
    "Sample_dict ={[1,2,3]:\"Pwskills\",2: \"AI\"}\n",
    "print(Sample_dict[[1,2,3]])"
   ]
  },
  {
   "cell_type": "code",
   "execution_count": 207,
   "id": "c8c4a99f",
   "metadata": {
    "collapsed": true
   },
   "outputs": [
    {
     "ename": "TypeError",
     "evalue": "unhashable type: 'set'",
     "output_type": "error",
     "traceback": [
      "\u001b[1;31m---------------------------------------------------------------------------\u001b[0m",
      "\u001b[1;31mTypeError\u001b[0m                                 Traceback (most recent call last)",
      "Cell \u001b[1;32mIn[207], line 3\u001b[0m\n\u001b[0;32m      1\u001b[0m \u001b[38;5;66;03m#Sample_dict using sets\u001b[39;00m\n\u001b[0;32m      2\u001b[0m \u001b[38;5;66;03m#unhashable type error\u001b[39;00m\n\u001b[1;32m----> 3\u001b[0m Sample_dict \u001b[38;5;241m=\u001b[39m{{\u001b[38;5;241m1\u001b[39m,\u001b[38;5;241m2\u001b[39m,\u001b[38;5;241m3\u001b[39m}:\u001b[38;5;124m\"\u001b[39m\u001b[38;5;124mPwskills\u001b[39m\u001b[38;5;124m\"\u001b[39m,\u001b[38;5;241m2\u001b[39m: \u001b[38;5;124m\"\u001b[39m\u001b[38;5;124mAI\u001b[39m\u001b[38;5;124m\"\u001b[39m}\n\u001b[0;32m      4\u001b[0m \u001b[38;5;28mprint\u001b[39m(Sample_dict[{\u001b[38;5;241m1\u001b[39m,\u001b[38;5;241m2\u001b[39m,\u001b[38;5;241m3\u001b[39m}])\n",
      "\u001b[1;31mTypeError\u001b[0m: unhashable type: 'set'"
     ]
    }
   ],
   "source": [
    "#Sample_dict using sets\n",
    "#unhashable type error\n",
    "Sample_dict ={{1,2,3}:\"Pwskills\",2: \"AI\"}\n",
    "print(Sample_dict[{1,2,3}])"
   ]
  },
  {
   "cell_type": "markdown",
   "id": "ebe09f0a",
   "metadata": {},
   "source": [
    "Python uses the hash function to generate a unique value (hash) for every key,\n",
    "which is used for fast lookups in the dictionary. When a key is added to a dictionary\n",
    "Python calculates its hash value using the hash() function."
   ]
  },
  {
   "cell_type": "markdown",
   "id": "e07fd21b",
   "metadata": {},
   "source": [
    "If the key were mutable and its internal data changed after being added to the dictionary\n",
    "the hash value would also change, and the dictionary could no longer locate the value correctly"
   ]
  },
  {
   "cell_type": "code",
   "execution_count": null,
   "id": "5c592c2d",
   "metadata": {},
   "outputs": [],
   "source": []
  },
  {
   "cell_type": "code",
   "execution_count": null,
   "id": "07539e79",
   "metadata": {},
   "outputs": [],
   "source": []
  },
  {
   "cell_type": "code",
   "execution_count": null,
   "id": "b80834c5",
   "metadata": {},
   "outputs": [],
   "source": []
  },
  {
   "cell_type": "code",
   "execution_count": null,
   "id": "fc653dfe",
   "metadata": {},
   "outputs": [],
   "source": []
  },
  {
   "cell_type": "code",
   "execution_count": null,
   "id": "728076d4",
   "metadata": {},
   "outputs": [],
   "source": []
  },
  {
   "cell_type": "code",
   "execution_count": null,
   "id": "d4bdf2ec",
   "metadata": {},
   "outputs": [],
   "source": []
  },
  {
   "cell_type": "code",
   "execution_count": null,
   "id": "ab6ff10a",
   "metadata": {},
   "outputs": [],
   "source": []
  },
  {
   "cell_type": "code",
   "execution_count": null,
   "id": "57675ae2",
   "metadata": {},
   "outputs": [],
   "source": []
  },
  {
   "cell_type": "code",
   "execution_count": null,
   "id": "8cafaa02",
   "metadata": {},
   "outputs": [],
   "source": []
  },
  {
   "cell_type": "code",
   "execution_count": null,
   "id": "44ef44ab",
   "metadata": {},
   "outputs": [],
   "source": []
  },
  {
   "cell_type": "code",
   "execution_count": null,
   "id": "e65e6a26",
   "metadata": {},
   "outputs": [],
   "source": []
  },
  {
   "cell_type": "code",
   "execution_count": null,
   "id": "2f35e8df",
   "metadata": {},
   "outputs": [],
   "source": []
  },
  {
   "cell_type": "code",
   "execution_count": null,
   "id": "7bb823f2",
   "metadata": {},
   "outputs": [],
   "source": []
  },
  {
   "cell_type": "code",
   "execution_count": null,
   "id": "ada8c274",
   "metadata": {},
   "outputs": [],
   "source": []
  },
  {
   "cell_type": "code",
   "execution_count": null,
   "id": "63b78e5b",
   "metadata": {},
   "outputs": [],
   "source": []
  },
  {
   "cell_type": "code",
   "execution_count": null,
   "id": "1596282c",
   "metadata": {},
   "outputs": [],
   "source": []
  },
  {
   "cell_type": "code",
   "execution_count": null,
   "id": "1c121b88",
   "metadata": {},
   "outputs": [],
   "source": []
  },
  {
   "cell_type": "code",
   "execution_count": null,
   "id": "be86c644",
   "metadata": {},
   "outputs": [],
   "source": []
  },
  {
   "cell_type": "code",
   "execution_count": null,
   "id": "fab0d664",
   "metadata": {},
   "outputs": [],
   "source": []
  },
  {
   "cell_type": "code",
   "execution_count": null,
   "id": "88aaad49",
   "metadata": {},
   "outputs": [],
   "source": []
  },
  {
   "cell_type": "code",
   "execution_count": null,
   "id": "27689e6d",
   "metadata": {},
   "outputs": [],
   "source": []
  },
  {
   "cell_type": "code",
   "execution_count": null,
   "id": "c1e9d7df",
   "metadata": {},
   "outputs": [],
   "source": []
  },
  {
   "cell_type": "code",
   "execution_count": null,
   "id": "22bc413c",
   "metadata": {},
   "outputs": [],
   "source": []
  },
  {
   "cell_type": "code",
   "execution_count": null,
   "id": "1409d873",
   "metadata": {},
   "outputs": [],
   "source": []
  }
 ],
 "metadata": {
  "kernelspec": {
   "display_name": "Python 3 (ipykernel)",
   "language": "python",
   "name": "python3"
  },
  "language_info": {
   "codemirror_mode": {
    "name": "ipython",
    "version": 3
   },
   "file_extension": ".py",
   "mimetype": "text/x-python",
   "name": "python",
   "nbconvert_exporter": "python",
   "pygments_lexer": "ipython3",
   "version": "3.11.5"
  }
 },
 "nbformat": 4,
 "nbformat_minor": 5
}
